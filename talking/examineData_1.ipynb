{
 "cells": [
  {
   "cell_type": "markdown",
   "metadata": {},
   "source": [
    "1. RDB 에서 파생된 테이블 같은대 어떤 관계를 가지고있는지 궁금해"
   ]
  },
  {
   "cell_type": "code",
   "execution_count": 2,
   "metadata": {
    "collapsed": true
   },
   "outputs": [],
   "source": [
    "import pandas as pd\n",
    "import numpy as np"
   ]
  },
  {
   "cell_type": "code",
   "execution_count": 3,
   "metadata": {
    "collapsed": true
   },
   "outputs": [],
   "source": [
    "gender_age = pd.read_csv(\"./data/gender_age_train.csv\", dtype={'device_id': np.str})"
   ]
  },
  {
   "cell_type": "code",
   "execution_count": 4,
   "metadata": {
    "collapsed": false
   },
   "outputs": [
    {
     "name": "stdout",
     "output_type": "stream",
     "text": [
      "              device_id gender  age   group\n",
      "0  -8076087639492063270      M   35  M32-38\n",
      "1  -2897161552818060146      M   35  M32-38\n",
      "2  -8260683887967679142      M   35  M32-38\n",
      "3  -4938849341048082022      M   30  M29-31\n",
      "4    245133531816851882      M   30  M29-31\n"
     ]
    }
   ],
   "source": [
    "print gender_age.head()"
   ]
  },
  {
   "cell_type": "code",
   "execution_count": 5,
   "metadata": {
    "collapsed": false
   },
   "outputs": [
    {
     "data": {
      "text/plain": [
       "array([1])"
      ]
     },
     "execution_count": 5,
     "metadata": {},
     "output_type": "execute_result"
    }
   ],
   "source": [
    "np.unique(gender_age.groupby(['device_id'])['device_id'].agg('count').values)"
   ]
  },
  {
   "cell_type": "markdown",
   "metadata": {},
   "source": [
    "이벤트 조사해보자\n",
    "device_id  가 가장 많은 애는 몇개일까?"
   ]
  },
  {
   "cell_type": "code",
   "execution_count": 6,
   "metadata": {
    "collapsed": true
   },
   "outputs": [],
   "source": [
    "events = pd.read_csv(\"./data/events.csv\", dtype={'device_id': np.str})"
   ]
  },
  {
   "cell_type": "code",
   "execution_count": 7,
   "metadata": {
    "collapsed": false
   },
   "outputs": [
    {
     "name": "stdout",
     "output_type": "stream",
     "text": [
      "   event_id             device_id            timestamp  longitude  latitude\n",
      "0         1     29182687948017175  2016-05-01 00:55:25     121.38     31.24\n",
      "1         2  -6401643145415154744  2016-05-01 00:54:12     103.65     30.97\n",
      "2         3  -4833982096941402721  2016-05-01 00:08:05     106.60     29.70\n",
      "3         4  -6815121365017318426  2016-05-01 00:06:40     104.27     23.28\n",
      "4         5  -5373797595892518570  2016-05-01 00:07:18     115.88     28.66\n",
      "(3252950, 5)\n"
     ]
    }
   ],
   "source": [
    "print events.head()\n",
    "print events.shape\n"
   ]
  },
  {
   "cell_type": "code",
   "execution_count": 8,
   "metadata": {
    "collapsed": true
   },
   "outputs": [],
   "source": [
    "import matplotlib.pyplot as plt\n",
    "%matplotlib inline"
   ]
  },
  {
   "cell_type": "code",
   "execution_count": 9,
   "metadata": {
    "collapsed": false
   },
   "outputs": [],
   "source": [
    "device_counts = events.groupby('device_id')['event_id'].count()"
   ]
  },
  {
   "cell_type": "code",
   "execution_count": 10,
   "metadata": {
    "collapsed": false
   },
   "outputs": [],
   "source": [
    "filtered_device_counts = device_counts[device_counts < 50]"
   ]
  },
  {
   "cell_type": "code",
   "execution_count": 11,
   "metadata": {
    "collapsed": false
   },
   "outputs": [],
   "source": [
    "counts, bins = np.histogram(filtered_device_counts.values, bins=100, range=(0, 1000))"
   ]
  },
  {
   "cell_type": "code",
   "execution_count": 12,
   "metadata": {
    "collapsed": false
   },
   "outputs": [
    {
     "data": {
      "text/plain": [
       "(array([ 95.,   0.,   0.,   0.,   0.,   0.,   0.,   0.,   0.,   0.,   0.,\n",
       "          0.,   0.,   0.,   0.,   0.,   0.,   0.,   0.,   0.,   0.,   0.,\n",
       "          0.,   0.,   0.,   0.,   0.,   0.,   0.,   0.,   0.,   0.,   0.,\n",
       "          0.,   0.,   0.,   0.,   0.,   0.,   0.,   0.,   0.,   0.,   0.,\n",
       "          0.,   0.,   0.,   0.,   0.,   0.,   0.,   0.,   0.,   0.,   0.,\n",
       "          0.,   0.,   0.,   0.,   0.,   0.,   0.,   0.,   0.,   0.,   0.,\n",
       "          0.,   0.,   0.,   0.,   0.,   0.,   0.,   0.,   0.,   0.,   0.,\n",
       "          0.,   0.,   0.,   0.,   0.,   0.,   0.,   0.,   0.,   0.,   0.,\n",
       "          0.,   0.,   0.,   0.,   0.,   0.,   0.,   0.,   0.,   0.,   0.,\n",
       "          0.]),\n",
       " array([    0.,    10.,    20.,    30.,    40.,    50.,    60.,    70.,\n",
       "           80.,    90.,   100.,   110.,   120.,   130.,   140.,   150.,\n",
       "          160.,   170.,   180.,   190.,   200.,   210.,   220.,   230.,\n",
       "          240.,   250.,   260.,   270.,   280.,   290.,   300.,   310.,\n",
       "          320.,   330.,   340.,   350.,   360.,   370.,   380.,   390.,\n",
       "          400.,   410.,   420.,   430.,   440.,   450.,   460.,   470.,\n",
       "          480.,   490.,   500.,   510.,   520.,   530.,   540.,   550.,\n",
       "          560.,   570.,   580.,   590.,   600.,   610.,   620.,   630.,\n",
       "          640.,   650.,   660.,   670.,   680.,   690.,   700.,   710.,\n",
       "          720.,   730.,   740.,   750.,   760.,   770.,   780.,   790.,\n",
       "          800.,   810.,   820.,   830.,   840.,   850.,   860.,   870.,\n",
       "          880.,   890.,   900.,   910.,   920.,   930.,   940.,   950.,\n",
       "          960.,   970.,   980.,   990.,  1000.]),\n",
       " <a list of 100 Patch objects>)"
      ]
     },
     "execution_count": 12,
     "metadata": {},
     "output_type": "execute_result"
    },
    {
     "data": {
      "image/png": "[encoded data removed]",
      "text/plain": [
       "<matplotlib.figure.Figure at 0x10e11bf10>"
      ]
     },
     "metadata": {},
     "output_type": "display_data"
    }
   ],
   "source": [
    "plt.hist(counts, bins)"
   ]
  },
  {
   "cell_type": "code",
   "execution_count": 13,
   "metadata": {
    "collapsed": false
   },
   "outputs": [
    {
     "data": {
      "text/plain": [
       "{'boxes': [<matplotlib.lines.Line2D at 0x10f83ed10>],\n",
       " 'caps': [<matplotlib.lines.Line2D at 0x10f84bd10>,\n",
       "  <matplotlib.lines.Line2D at 0x10f857390>],\n",
       " 'fliers': [<matplotlib.lines.Line2D at 0x10f862050>],\n",
       " 'means': [],\n",
       " 'medians': [<matplotlib.lines.Line2D at 0x10f8579d0>],\n",
       " 'whiskers': [<matplotlib.lines.Line2D at 0x10f83efd0>,\n",
       "  <matplotlib.lines.Line2D at 0x10f84b6d0>]}"
      ]
     },
     "execution_count": 13,
     "metadata": {},
     "output_type": "execute_result"
    },
    {
     "data": {
      "image/png": "[encoded data removed]",
      "text/plain": [
       "<matplotlib.figure.Figure at 0x10ef5b6d0>"
      ]
     },
     "metadata": {},
     "output_type": "display_data"
    }
   ],
   "source": [
    "plt.boxplot(filtered_device_counts.values)"
   ]
  },
  {
   "cell_type": "code",
   "execution_count": 14,
   "metadata": {
    "collapsed": false
   },
   "outputs": [],
   "source": [
    "import seaborn as sns\n",
    "sns.set(color_codes=True)"
   ]
  },
  {
   "cell_type": "code",
   "execution_count": 15,
   "metadata": {
    "collapsed": false
   },
   "outputs": [
    {
     "data": {
      "text/plain": [
       "<matplotlib.axes._subplots.AxesSubplot at 0x113295b10>"
      ]
     },
     "execution_count": 15,
     "metadata": {},
     "output_type": "execute_result"
    },
    {
     "data": {
      "image/png": "[encoded data removed]",
      "text/plain": [
       "<matplotlib.figure.Figure at 0x10fa52a10>"
      ]
     },
     "metadata": {},
     "output_type": "display_data"
    }
   ],
   "source": [
    "sns.distplot(filtered_device_counts)"
   ]
  },
  {
   "cell_type": "markdown",
   "metadata": {},
   "source": [
    "phone brand 를 봐볼까"
   ]
  },
  {
   "cell_type": "code",
   "execution_count": 16,
   "metadata": {
    "collapsed": false
   },
   "outputs": [],
   "source": [
    "pbd = pd.read_csv('./data/phone_brand_device_model.csv', dtype={'device_id': np.str})"
   ]
  },
  {
   "cell_type": "code",
   "execution_count": 17,
   "metadata": {
    "collapsed": false
   },
   "outputs": [
    {
     "name": "stdout",
     "output_type": "stream",
     "text": [
      "              device_id phone_brand   device_model\n",
      "0  -8890648629457979026          小米             红米\n",
      "1   1277779817574759137          小米           MI 2\n",
      "2   5137427614288105724          三星      Galaxy S4\n",
      "3   3669464369358936369       SUGAR           时尚手机\n",
      "4  -5019277647504317457          三星  Galaxy Note 2\n",
      "                  device_id phone_brand device_model\n",
      "count                187245      187245       187245\n",
      "unique               186716         131         1599\n",
      "top     3025995277115604469          小米       红米note\n",
      "freq                      2       43210         7358\n"
     ]
    }
   ],
   "source": [
    "print pbd.head()\n",
    "print pbd.describe()"
   ]
  },
  {
   "cell_type": "code",
   "execution_count": 18,
   "metadata": {
    "collapsed": false
   },
   "outputs": [
    {
     "data": {
      "text/plain": [
       "529"
      ]
     },
     "execution_count": 18,
     "metadata": {},
     "output_type": "execute_result"
    }
   ],
   "source": [
    "len(pbd.groupby('device_id').count()[pbd.groupby('device_id')['device_id'].count().values > 1])"
   ]
  },
  {
   "cell_type": "code",
   "execution_count": 19,
   "metadata": {
    "collapsed": false
   },
   "outputs": [
    {
     "name": "stdout",
     "output_type": "stream",
     "text": [
      "                      phone_brand  device_model\n",
      "device_id                                      \n",
      "-1054056445342375195            2             2\n",
      "-1058976689976607809            2             2\n",
      "-1060418556246365354            2             2\n",
      "-1076064832252218291            2             2\n",
      "-1087216240998270009            2             2\n",
      "                  device_id phone_brand device_model\n",
      "69332  -1054056445342375195          华为          畅享5\n",
      "82347  -1054056445342375195          华为          畅享5\n"
     ]
    }
   ],
   "source": [
    "print pbd.groupby('device_id').count()[pbd.groupby('device_id')['device_id'].count().values > 1].head()\n",
    "print pbd[pbd['device_id'] == '-1054056445342375195']\n",
    "          "
   ]
  },
  {
   "cell_type": "code",
   "execution_count": 20,
   "metadata": {
    "collapsed": true
   },
   "outputs": [],
   "source": [
    "gender_pbd = pd.merge(gender_age, pbd, how='left', on='device_id')"
   ]
  },
  {
   "cell_type": "code",
   "execution_count": 21,
   "metadata": {
    "collapsed": false
   },
   "outputs": [
    {
     "name": "stdout",
     "output_type": "stream",
     "text": [
      "              device_id gender  age   group phone_brand device_model\n",
      "0  -8076087639492063270      M   35  M32-38          小米         MI 2\n",
      "1  -2897161552818060146      M   35  M32-38          小米         MI 2\n",
      "2  -8260683887967679142      M   35  M32-38          小米         MI 2\n",
      "3  -4938849341048082022      M   30  M29-31          小米       红米note\n",
      "4    245133531816851882      M   30  M29-31          小米         MI 3\n"
     ]
    }
   ],
   "source": [
    "print gender_pbd.head()"
   ]
  },
  {
   "cell_type": "code",
   "execution_count": 28,
   "metadata": {
    "collapsed": false
   },
   "outputs": [
    {
     "data": {
      "text/html": [
       "<div>\n",
       "<table border=\"1\" class=\"dataframe\">\n",
       "  <thead>\n",
       "    <tr style=\"text-align: right;\">\n",
       "      <th></th>\n",
       "      <th>device_id</th>\n",
       "      <th>gender</th>\n",
       "      <th>age</th>\n",
       "      <th>group</th>\n",
       "      <th>device_model</th>\n",
       "    </tr>\n",
       "    <tr>\n",
       "      <th>phone_brand</th>\n",
       "      <th></th>\n",
       "      <th></th>\n",
       "      <th></th>\n",
       "      <th></th>\n",
       "      <th></th>\n",
       "    </tr>\n",
       "  </thead>\n",
       "  <tbody>\n",
       "    <tr>\n",
       "      <th>E派</th>\n",
       "      <td>10</td>\n",
       "      <td>10</td>\n",
       "      <td>10</td>\n",
       "      <td>10</td>\n",
       "      <td>10</td>\n",
       "    </tr>\n",
       "    <tr>\n",
       "      <th>HTC</th>\n",
       "      <td>1015</td>\n",
       "      <td>1015</td>\n",
       "      <td>1015</td>\n",
       "      <td>1015</td>\n",
       "      <td>1015</td>\n",
       "    </tr>\n",
       "    <tr>\n",
       "      <th>LG</th>\n",
       "      <td>333</td>\n",
       "      <td>333</td>\n",
       "      <td>333</td>\n",
       "      <td>333</td>\n",
       "      <td>333</td>\n",
       "    </tr>\n",
       "    <tr>\n",
       "      <th>LOGO</th>\n",
       "      <td>19</td>\n",
       "      <td>19</td>\n",
       "      <td>19</td>\n",
       "      <td>19</td>\n",
       "      <td>19</td>\n",
       "    </tr>\n",
       "    <tr>\n",
       "      <th>Lovme</th>\n",
       "      <td>15</td>\n",
       "      <td>15</td>\n",
       "      <td>15</td>\n",
       "      <td>15</td>\n",
       "      <td>15</td>\n",
       "    </tr>\n",
       "    <tr>\n",
       "      <th>MIL</th>\n",
       "      <td>1</td>\n",
       "      <td>1</td>\n",
       "      <td>1</td>\n",
       "      <td>1</td>\n",
       "      <td>1</td>\n",
       "    </tr>\n",
       "    <tr>\n",
       "      <th>OPPO</th>\n",
       "      <td>5802</td>\n",
       "      <td>5802</td>\n",
       "      <td>5802</td>\n",
       "      <td>5802</td>\n",
       "      <td>5802</td>\n",
       "    </tr>\n",
       "    <tr>\n",
       "      <th>PPTV</th>\n",
       "      <td>3</td>\n",
       "      <td>3</td>\n",
       "      <td>3</td>\n",
       "      <td>3</td>\n",
       "      <td>3</td>\n",
       "    </tr>\n",
       "    <tr>\n",
       "      <th>SUGAR</th>\n",
       "      <td>6</td>\n",
       "      <td>6</td>\n",
       "      <td>6</td>\n",
       "      <td>6</td>\n",
       "      <td>6</td>\n",
       "    </tr>\n",
       "    <tr>\n",
       "      <th>TCL</th>\n",
       "      <td>222</td>\n",
       "      <td>222</td>\n",
       "      <td>222</td>\n",
       "      <td>222</td>\n",
       "      <td>222</td>\n",
       "    </tr>\n",
       "    <tr>\n",
       "      <th>ZOYE</th>\n",
       "      <td>1</td>\n",
       "      <td>1</td>\n",
       "      <td>1</td>\n",
       "      <td>1</td>\n",
       "      <td>1</td>\n",
       "    </tr>\n",
       "    <tr>\n",
       "      <th>ZUK</th>\n",
       "      <td>56</td>\n",
       "      <td>56</td>\n",
       "      <td>56</td>\n",
       "      <td>56</td>\n",
       "      <td>56</td>\n",
       "    </tr>\n",
       "    <tr>\n",
       "      <th>vivo</th>\n",
       "      <td>5658</td>\n",
       "      <td>5658</td>\n",
       "      <td>5658</td>\n",
       "      <td>5658</td>\n",
       "      <td>5658</td>\n",
       "    </tr>\n",
       "    <tr>\n",
       "      <th>一加</th>\n",
       "      <td>174</td>\n",
       "      <td>174</td>\n",
       "      <td>174</td>\n",
       "      <td>174</td>\n",
       "      <td>174</td>\n",
       "    </tr>\n",
       "    <tr>\n",
       "      <th>三星</th>\n",
       "      <td>13706</td>\n",
       "      <td>13706</td>\n",
       "      <td>13706</td>\n",
       "      <td>13706</td>\n",
       "      <td>13706</td>\n",
       "    </tr>\n",
       "    <tr>\n",
       "      <th>世纪天元</th>\n",
       "      <td>1</td>\n",
       "      <td>1</td>\n",
       "      <td>1</td>\n",
       "      <td>1</td>\n",
       "      <td>1</td>\n",
       "    </tr>\n",
       "    <tr>\n",
       "      <th>中兴</th>\n",
       "      <td>861</td>\n",
       "      <td>861</td>\n",
       "      <td>861</td>\n",
       "      <td>861</td>\n",
       "      <td>861</td>\n",
       "    </tr>\n",
       "    <tr>\n",
       "      <th>中国移动</th>\n",
       "      <td>275</td>\n",
       "      <td>275</td>\n",
       "      <td>275</td>\n",
       "      <td>275</td>\n",
       "      <td>275</td>\n",
       "    </tr>\n",
       "    <tr>\n",
       "      <th>丰米</th>\n",
       "      <td>2</td>\n",
       "      <td>2</td>\n",
       "      <td>2</td>\n",
       "      <td>2</td>\n",
       "      <td>2</td>\n",
       "    </tr>\n",
       "    <tr>\n",
       "      <th>乐视</th>\n",
       "      <td>760</td>\n",
       "      <td>760</td>\n",
       "      <td>760</td>\n",
       "      <td>760</td>\n",
       "      <td>760</td>\n",
       "    </tr>\n",
       "    <tr>\n",
       "      <th>乡米</th>\n",
       "      <td>4</td>\n",
       "      <td>4</td>\n",
       "      <td>4</td>\n",
       "      <td>4</td>\n",
       "      <td>4</td>\n",
       "    </tr>\n",
       "    <tr>\n",
       "      <th>亚马逊</th>\n",
       "      <td>1</td>\n",
       "      <td>1</td>\n",
       "      <td>1</td>\n",
       "      <td>1</td>\n",
       "      <td>1</td>\n",
       "    </tr>\n",
       "    <tr>\n",
       "      <th>亿通</th>\n",
       "      <td>29</td>\n",
       "      <td>29</td>\n",
       "      <td>29</td>\n",
       "      <td>29</td>\n",
       "      <td>29</td>\n",
       "    </tr>\n",
       "    <tr>\n",
       "      <th>优米</th>\n",
       "      <td>192</td>\n",
       "      <td>192</td>\n",
       "      <td>192</td>\n",
       "      <td>192</td>\n",
       "      <td>192</td>\n",
       "    </tr>\n",
       "    <tr>\n",
       "      <th>优语</th>\n",
       "      <td>1</td>\n",
       "      <td>1</td>\n",
       "      <td>1</td>\n",
       "      <td>1</td>\n",
       "      <td>1</td>\n",
       "    </tr>\n",
       "    <tr>\n",
       "      <th>优购</th>\n",
       "      <td>24</td>\n",
       "      <td>24</td>\n",
       "      <td>24</td>\n",
       "      <td>24</td>\n",
       "      <td>24</td>\n",
       "    </tr>\n",
       "    <tr>\n",
       "      <th>先锋</th>\n",
       "      <td>5</td>\n",
       "      <td>5</td>\n",
       "      <td>5</td>\n",
       "      <td>5</td>\n",
       "      <td>5</td>\n",
       "    </tr>\n",
       "    <tr>\n",
       "      <th>凯利通</th>\n",
       "      <td>1</td>\n",
       "      <td>1</td>\n",
       "      <td>1</td>\n",
       "      <td>1</td>\n",
       "      <td>1</td>\n",
       "    </tr>\n",
       "    <tr>\n",
       "      <th>努比亚</th>\n",
       "      <td>484</td>\n",
       "      <td>484</td>\n",
       "      <td>484</td>\n",
       "      <td>484</td>\n",
       "      <td>484</td>\n",
       "    </tr>\n",
       "    <tr>\n",
       "      <th>华为</th>\n",
       "      <td>13001</td>\n",
       "      <td>13001</td>\n",
       "      <td>13001</td>\n",
       "      <td>13001</td>\n",
       "      <td>13001</td>\n",
       "    </tr>\n",
       "    <tr>\n",
       "      <th>...</th>\n",
       "      <td>...</td>\n",
       "      <td>...</td>\n",
       "      <td>...</td>\n",
       "      <td>...</td>\n",
       "      <td>...</td>\n",
       "    </tr>\n",
       "    <tr>\n",
       "      <th>聆韵</th>\n",
       "      <td>21</td>\n",
       "      <td>21</td>\n",
       "      <td>21</td>\n",
       "      <td>21</td>\n",
       "      <td>21</td>\n",
       "    </tr>\n",
       "    <tr>\n",
       "      <th>联想</th>\n",
       "      <td>2695</td>\n",
       "      <td>2695</td>\n",
       "      <td>2695</td>\n",
       "      <td>2695</td>\n",
       "      <td>2695</td>\n",
       "    </tr>\n",
       "    <tr>\n",
       "      <th>至尊宝</th>\n",
       "      <td>12</td>\n",
       "      <td>12</td>\n",
       "      <td>12</td>\n",
       "      <td>12</td>\n",
       "      <td>12</td>\n",
       "    </tr>\n",
       "    <tr>\n",
       "      <th>艾优尼</th>\n",
       "      <td>40</td>\n",
       "      <td>40</td>\n",
       "      <td>40</td>\n",
       "      <td>40</td>\n",
       "      <td>40</td>\n",
       "    </tr>\n",
       "    <tr>\n",
       "      <th>蓝魔</th>\n",
       "      <td>3</td>\n",
       "      <td>3</td>\n",
       "      <td>3</td>\n",
       "      <td>3</td>\n",
       "      <td>3</td>\n",
       "    </tr>\n",
       "    <tr>\n",
       "      <th>虾米</th>\n",
       "      <td>3</td>\n",
       "      <td>3</td>\n",
       "      <td>3</td>\n",
       "      <td>3</td>\n",
       "      <td>3</td>\n",
       "    </tr>\n",
       "    <tr>\n",
       "      <th>西米</th>\n",
       "      <td>7</td>\n",
       "      <td>7</td>\n",
       "      <td>7</td>\n",
       "      <td>7</td>\n",
       "      <td>7</td>\n",
       "    </tr>\n",
       "    <tr>\n",
       "      <th>西门子</th>\n",
       "      <td>1</td>\n",
       "      <td>1</td>\n",
       "      <td>1</td>\n",
       "      <td>1</td>\n",
       "      <td>1</td>\n",
       "    </tr>\n",
       "    <tr>\n",
       "      <th>语信</th>\n",
       "      <td>170</td>\n",
       "      <td>170</td>\n",
       "      <td>170</td>\n",
       "      <td>170</td>\n",
       "      <td>170</td>\n",
       "    </tr>\n",
       "    <tr>\n",
       "      <th>诺亚信</th>\n",
       "      <td>15</td>\n",
       "      <td>15</td>\n",
       "      <td>15</td>\n",
       "      <td>15</td>\n",
       "      <td>15</td>\n",
       "    </tr>\n",
       "    <tr>\n",
       "      <th>诺基亚</th>\n",
       "      <td>25</td>\n",
       "      <td>25</td>\n",
       "      <td>25</td>\n",
       "      <td>25</td>\n",
       "      <td>25</td>\n",
       "    </tr>\n",
       "    <tr>\n",
       "      <th>谷歌</th>\n",
       "      <td>7</td>\n",
       "      <td>7</td>\n",
       "      <td>7</td>\n",
       "      <td>7</td>\n",
       "      <td>7</td>\n",
       "    </tr>\n",
       "    <tr>\n",
       "      <th>贝尔丰</th>\n",
       "      <td>23</td>\n",
       "      <td>23</td>\n",
       "      <td>23</td>\n",
       "      <td>23</td>\n",
       "      <td>23</td>\n",
       "    </tr>\n",
       "    <tr>\n",
       "      <th>邦华</th>\n",
       "      <td>12</td>\n",
       "      <td>12</td>\n",
       "      <td>12</td>\n",
       "      <td>12</td>\n",
       "      <td>12</td>\n",
       "    </tr>\n",
       "    <tr>\n",
       "      <th>酷比</th>\n",
       "      <td>67</td>\n",
       "      <td>67</td>\n",
       "      <td>67</td>\n",
       "      <td>67</td>\n",
       "      <td>67</td>\n",
       "    </tr>\n",
       "    <tr>\n",
       "      <th>酷比魔方</th>\n",
       "      <td>64</td>\n",
       "      <td>64</td>\n",
       "      <td>64</td>\n",
       "      <td>64</td>\n",
       "      <td>64</td>\n",
       "    </tr>\n",
       "    <tr>\n",
       "      <th>酷派</th>\n",
       "      <td>3349</td>\n",
       "      <td>3349</td>\n",
       "      <td>3349</td>\n",
       "      <td>3349</td>\n",
       "      <td>3349</td>\n",
       "    </tr>\n",
       "    <tr>\n",
       "      <th>酷珀</th>\n",
       "      <td>21</td>\n",
       "      <td>21</td>\n",
       "      <td>21</td>\n",
       "      <td>21</td>\n",
       "      <td>21</td>\n",
       "    </tr>\n",
       "    <tr>\n",
       "      <th>金星数码</th>\n",
       "      <td>3</td>\n",
       "      <td>3</td>\n",
       "      <td>3</td>\n",
       "      <td>3</td>\n",
       "      <td>3</td>\n",
       "    </tr>\n",
       "    <tr>\n",
       "      <th>金立</th>\n",
       "      <td>1124</td>\n",
       "      <td>1124</td>\n",
       "      <td>1124</td>\n",
       "      <td>1124</td>\n",
       "      <td>1124</td>\n",
       "    </tr>\n",
       "    <tr>\n",
       "      <th>锤子</th>\n",
       "      <td>191</td>\n",
       "      <td>191</td>\n",
       "      <td>191</td>\n",
       "      <td>191</td>\n",
       "      <td>191</td>\n",
       "    </tr>\n",
       "    <tr>\n",
       "      <th>长虹</th>\n",
       "      <td>7</td>\n",
       "      <td>7</td>\n",
       "      <td>7</td>\n",
       "      <td>7</td>\n",
       "      <td>7</td>\n",
       "    </tr>\n",
       "    <tr>\n",
       "      <th>青橙</th>\n",
       "      <td>12</td>\n",
       "      <td>12</td>\n",
       "      <td>12</td>\n",
       "      <td>12</td>\n",
       "      <td>12</td>\n",
       "    </tr>\n",
       "    <tr>\n",
       "      <th>青葱</th>\n",
       "      <td>4</td>\n",
       "      <td>4</td>\n",
       "      <td>4</td>\n",
       "      <td>4</td>\n",
       "      <td>4</td>\n",
       "    </tr>\n",
       "    <tr>\n",
       "      <th>飞利浦</th>\n",
       "      <td>1</td>\n",
       "      <td>1</td>\n",
       "      <td>1</td>\n",
       "      <td>1</td>\n",
       "      <td>1</td>\n",
       "    </tr>\n",
       "    <tr>\n",
       "      <th>飞秒</th>\n",
       "      <td>1</td>\n",
       "      <td>1</td>\n",
       "      <td>1</td>\n",
       "      <td>1</td>\n",
       "      <td>1</td>\n",
       "    </tr>\n",
       "    <tr>\n",
       "      <th>首云</th>\n",
       "      <td>3</td>\n",
       "      <td>3</td>\n",
       "      <td>3</td>\n",
       "      <td>3</td>\n",
       "      <td>3</td>\n",
       "    </tr>\n",
       "    <tr>\n",
       "      <th>魅族</th>\n",
       "      <td>4710</td>\n",
       "      <td>4710</td>\n",
       "      <td>4710</td>\n",
       "      <td>4710</td>\n",
       "      <td>4710</td>\n",
       "    </tr>\n",
       "    <tr>\n",
       "      <th>鲜米</th>\n",
       "      <td>1</td>\n",
       "      <td>1</td>\n",
       "      <td>1</td>\n",
       "      <td>1</td>\n",
       "      <td>1</td>\n",
       "    </tr>\n",
       "    <tr>\n",
       "      <th>黑米</th>\n",
       "      <td>35</td>\n",
       "      <td>35</td>\n",
       "      <td>35</td>\n",
       "      <td>35</td>\n",
       "      <td>35</td>\n",
       "    </tr>\n",
       "  </tbody>\n",
       "</table>\n",
       "<p>120 rows × 5 columns</p>\n",
       "</div>"
      ],
      "text/plain": [
       "             device_id  gender    age  group  device_model\n",
       "phone_brand                                               \n",
       "E派                  10      10     10     10            10\n",
       "HTC               1015    1015   1015   1015          1015\n",
       "LG                 333     333    333    333           333\n",
       "LOGO                19      19     19     19            19\n",
       "Lovme               15      15     15     15            15\n",
       "MIL                  1       1      1      1             1\n",
       "OPPO              5802    5802   5802   5802          5802\n",
       "PPTV                 3       3      3      3             3\n",
       "SUGAR                6       6      6      6             6\n",
       "TCL                222     222    222    222           222\n",
       "ZOYE                 1       1      1      1             1\n",
       "ZUK                 56      56     56     56            56\n",
       "vivo              5658    5658   5658   5658          5658\n",
       "一加                 174     174    174    174           174\n",
       "三星               13706   13706  13706  13706         13706\n",
       "世纪天元                 1       1      1      1             1\n",
       "中兴                 861     861    861    861           861\n",
       "中国移动               275     275    275    275           275\n",
       "丰米                   2       2      2      2             2\n",
       "乐视                 760     760    760    760           760\n",
       "乡米                   4       4      4      4             4\n",
       "亚马逊                  1       1      1      1             1\n",
       "亿通                  29      29     29     29            29\n",
       "优米                 192     192    192    192           192\n",
       "优语                   1       1      1      1             1\n",
       "优购                  24      24     24     24            24\n",
       "先锋                   5       5      5      5             5\n",
       "凯利通                  1       1      1      1             1\n",
       "努比亚                484     484    484    484           484\n",
       "华为               13001   13001  13001  13001         13001\n",
       "...                ...     ...    ...    ...           ...\n",
       "聆韵                  21      21     21     21            21\n",
       "联想                2695    2695   2695   2695          2695\n",
       "至尊宝                 12      12     12     12            12\n",
       "艾优尼                 40      40     40     40            40\n",
       "蓝魔                   3       3      3      3             3\n",
       "虾米                   3       3      3      3             3\n",
       "西米                   7       7      7      7             7\n",
       "西门子                  1       1      1      1             1\n",
       "语信                 170     170    170    170           170\n",
       "诺亚信                 15      15     15     15            15\n",
       "诺基亚                 25      25     25     25            25\n",
       "谷歌                   7       7      7      7             7\n",
       "贝尔丰                 23      23     23     23            23\n",
       "邦华                  12      12     12     12            12\n",
       "酷比                  67      67     67     67            67\n",
       "酷比魔方                64      64     64     64            64\n",
       "酷派                3349    3349   3349   3349          3349\n",
       "酷珀                  21      21     21     21            21\n",
       "金星数码                 3       3      3      3             3\n",
       "金立                1124    1124   1124   1124          1124\n",
       "锤子                 191     191    191    191           191\n",
       "长虹                   7       7      7      7             7\n",
       "青橙                  12      12     12     12            12\n",
       "青葱                   4       4      4      4             4\n",
       "飞利浦                  1       1      1      1             1\n",
       "飞秒                   1       1      1      1             1\n",
       "首云                   3       3      3      3             3\n",
       "魅族                4710    4710   4710   4710          4710\n",
       "鲜米                   1       1      1      1             1\n",
       "黑米                  35      35     35     35            35\n",
       "\n",
       "[120 rows x 5 columns]"
      ]
     },
     "execution_count": 28,
     "metadata": {},
     "output_type": "execute_result"
    }
   ],
   "source": [
    "gender_pbd.groupby(['phone_brand']).count()"
   ]
  },
  {
   "cell_type": "code",
   "execution_count": 23,
   "metadata": {
    "collapsed": false
   },
   "outputs": [
    {
     "data": {
      "text/plain": [
       "<matplotlib.axes._subplots.AxesSubplot at 0x1170fd250>"
      ]
     },
     "execution_count": 23,
     "metadata": {},
     "output_type": "execute_result"
    },
    {
     "data": {
      "image/png": "[encoded data removed]",
      "text/plain": [
       "<matplotlib.figure.Figure at 0x1137a0950>"
      ]
     },
     "metadata": {},
     "output_type": "display_data"
    }
   ],
   "source": [
    "gender_pbd[gender_pbd['gender'] == 'F'].groupby(['phone_brand'])['device_id'].count().plot(kind='bar')"
   ]
  },
  {
   "cell_type": "code",
   "execution_count": 24,
   "metadata": {
    "collapsed": false
   },
   "outputs": [
    {
     "data": {
      "text/plain": [
       "<matplotlib.axes._subplots.AxesSubplot at 0x114cbe9d0>"
      ]
     },
     "execution_count": 24,
     "metadata": {},
     "output_type": "execute_result"
    },
    {
     "data": {
      "image/png": "[encoded data removed]",
      "text/plain": [
       "<matplotlib.figure.Figure at 0x1137a0450>"
      ]
     },
     "metadata": {},
     "output_type": "display_data"
    }
   ],
   "source": [
    "gender_pbd[gender_pbd['gender'] == 'M'].groupby(['phone_brand'])['device_id'].count().plot(kind='bar')"
   ]
  },
  {
   "cell_type": "code",
   "execution_count": 25,
   "metadata": {
    "collapsed": false
   },
   "outputs": [],
   "source": [
    "gender_count = gender_pbd.groupby(['gender', 'phone_brand'])['device_id'].count()"
   ]
  },
  {
   "cell_type": "code",
   "execution_count": null,
   "metadata": {
    "collapsed": true
   },
   "outputs": [],
   "source": []
  }
 ],
 "metadata": {
  "kernelspec": {
   "display_name": "Python 2",
   "language": "python",
   "name": "python2"
  },
  "language_info": {
   "codemirror_mode": {
    "name": "ipython",
    "version": 2
   },
   "file_extension": ".py",
   "mimetype": "text/x-python",
   "name": "python",
   "nbconvert_exporter": "python",
   "pygments_lexer": "ipython2",
   "version": "2.7.11"
  }
 },
 "nbformat": 4,
 "nbformat_minor": 0
}
