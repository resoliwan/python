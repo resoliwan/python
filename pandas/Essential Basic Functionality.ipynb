{
 "cells": [
  {
   "cell_type": "markdown",
   "metadata": {},
   "source": [
    "here we discuss a lot of the essential functionality common to the pandas data structure. Here's the some of the object used in the examples from previous section"
   ]
  },
  {
   "cell_type": "code",
   "execution_count": 4,
   "metadata": {
    "collapsed": true
   },
   "outputs": [],
   "source": [
    "import pandas as pd\n",
    "import numpy as np"
   ]
  },
  {
   "cell_type": "code",
   "execution_count": 5,
   "metadata": {
    "collapsed": false
   },
   "outputs": [],
   "source": [
    "index = pd.date_range('1/1/2000', periods=8)\n",
    "s = pd.Series(np.random.randn(5), index=['a','b','c','d','e'])\n",
    "df = pd.DataFrame(np.random.randn(8,3), index=index, columns=['A','B','C',])\n",
    "wp = pd.Panel(np.random.randn(2, 5, 4), items=['item1', 'item2'],\n",
    "                  major_axis=pd.date_range('1/1/2000', periods=5),\n",
    "                  minor_axis=['A','B','C','D']\n",
    "              )"
   ]
  },
  {
   "cell_type": "markdown",
   "metadata": {
    "collapsed": true
   },
   "source": [
    "### Head and Tail\n",
    "\n",
    "To view a small sample of a Sereis or DataFrame, use the head() and tail() methods. The defalut number of elements to display is five, but you may pass a custom number."
   ]
  },
  {
   "cell_type": "code",
   "execution_count": 6,
   "metadata": {
    "collapsed": false
   },
   "outputs": [
    {
     "ename": "SyntaxError",
     "evalue": "invalid syntax (<ipython-input-6-dab0ba47444e>, line 2)",
     "output_type": "error",
     "traceback": [
      "\u001b[0;36m  File \u001b[0;32m\"<ipython-input-6-dab0ba47444e>\"\u001b[0;36m, line \u001b[0;32m2\u001b[0m\n\u001b[0;31m    print long_series.head()\u001b[0m\n\u001b[0m                    ^\u001b[0m\n\u001b[0;31mSyntaxError\u001b[0m\u001b[0;31m:\u001b[0m invalid syntax\n"
     ]
    }
   ],
   "source": [
    "long_series = pd.Series(np.random.randn(1000))\n",
    "print long_series.head()\n",
    "print long_series.tail(3)"
   ]
  },
  {
   "cell_type": "markdown",
   "metadata": {},
   "source": [
    "### Attributes and the raw ndarray(s)\n",
    "\n",
    "pandas object have a number of attributes enabling you to aceess the metadata\n",
    "\n",
    "- shape: give the axis dimetion of the object. consistent with ndarray\n",
    "- Axis labels\n",
    "> - Sereis: index (only axis)\n",
    "  - DataFrame : index(row) and columns\n",
    "  - Panel : itmes. major_axis, and minor_axis\n",
    "  \n",
    "Note, there attributes can be safely assigned to"
   ]
  },
  {
   "cell_type": "code",
   "execution_count": null,
   "metadata": {
    "collapsed": false
   },
   "outputs": [],
   "source": [
    "print df[:2]\n",
    "print [x for x in df.columns]\n",
    "df.columns = [x.lower() for x in df.columns]\n",
    "print df"
   ]
  },
  {
   "cell_type": "markdown",
   "metadata": {},
   "source": [
    "To get the actual data inside a data structure, one need only acesss the values property"
   ]
  },
  {
   "cell_type": "code",
   "execution_count": null,
   "metadata": {
    "collapsed": false
   },
   "outputs": [],
   "source": [
    "print s.values\n",
    "print df.values\n",
    "print wp.values"
   ]
  },
  {
   "cell_type": "markdown",
   "metadata": {},
   "source": [
    "if a DataFrame or Panel homogeneously-typed data, the ndarray can actually be modified in place, and the changes will be reflected in the data structure. For heterogeneous data (e.g some of the DataFrame's columns are not all the same dtype), this will not be case. the values attribute itself, unlike the axis labels, cannot be assigned to.\n",
    "\n",
    "> *Note* When working with hetergeneous data, the dtype of the resulting ndarray will be choosen to accommodate all of the data involved.\n",
    "For example. if string are involved, the result will be of object dtype. if there are only float and integers, the resulting array will be of float dtype"
   ]
  },
  {
   "cell_type": "markdown",
   "metadata": {
    "collapsed": true
   },
   "source": [
    "## Flexible binary operations\n",
    "with binary operation between pandas data structures, there are two key point of interest:\n",
    "\n",
    "- broadcasting behavior between higher ( e.g DataFrame) and lower-dimensional(e.g Series) objects\n",
    "- missing data in computation\n",
    "\n",
    "\n",
    "\n",
    "### Matching / broadcasting behavior\n",
    "\n",
    "DataFrame has the methods add, sub, mul, div and related function radd, rsub... for carrying out binary operations. For broadcasting behavior. Series input is of primary interest, Using these functions, you can use to either match on the index or columns via the axis keyword"
   ]
  },
  {
   "cell_type": "code",
   "execution_count": null,
   "metadata": {
    "collapsed": false
   },
   "outputs": [],
   "source": [
    "df = pd.DataFrame({\n",
    "        'one': pd.Series(np.random.randn(3), index=['a', 'b', 'c']),\n",
    "        'two': pd.Series(np.random.randn(4), index=['a', 'b', 'c', 'd']),\n",
    "        'three': pd.Series(np.random.randn(3), index=['b', 'c', 'd'])\n",
    "    })\n",
    "\n",
    "print df\n",
    "row = df.ix[1]\n",
    "print row\n",
    "column = df['two']\n",
    "print column\n",
    "\n",
    "print df.sub(row, axis='columns')\n",
    "print df.sub(row, axis=1)\n",
    "print df.sub(column, axis='index')\n",
    "print df.sub(column, axis=0)\n"
   ]
  },
  {
   "cell_type": "markdown",
   "metadata": {},
   "source": [
    "Futuremore you can align a level of a multi-indexed DataFrame with a Series"
   ]
  },
  {
   "cell_type": "code",
   "execution_count": null,
   "metadata": {
    "collapsed": false
   },
   "outputs": [],
   "source": [
    "dfmi = df.copy()\n",
    "dfmi.indes = pd.MultiIndex.from_tuples([(1, 'a'), (1, 'b'), (1, 'c'),(2, 'a')], names=['first','second'])\n",
    "print dfmi.sub(column, axis=0, level='second')\n",
    "print dfmi"
   ]
  },
  {
   "cell_type": "markdown",
   "metadata": {},
   "source": [
    "### Missing data / operation with fill values\n",
    "\n",
    "in Series and DataFrame (though not yet in Panel), the arithmetic funcitons have the option of inputting a fill_values, namely a value to substitute when at most one of the values at a location are missing.\n",
    "For Example when adding two dataFrame objects,  you may wish to treat NaN as 0 Unless both DataFrame are missing that values, in which case the result will be NaN( you can later replace NaN with some other values using fillna if you wish)"
   ]
  },
  {
   "cell_type": "code",
   "execution_count": null,
   "metadata": {
    "collapsed": false
   },
   "outputs": [],
   "source": [
    "print df\n",
    "df2 = df.copy()\n",
    "df2.iloc[0][1] = 12\n",
    "print df2\n",
    "print df + df2\n",
    "print df.add(df2, fill_value=0)"
   ]
  },
  {
   "cell_type": "markdown",
   "metadata": {
    "collapsed": true
   },
   "source": [
    "### Flexible Comparsions\n",
    "\n",
    "pandas introduced binary comparsion methods eq, ne, lt, gt, le and ge to Series and DataFrame whose behavior is analogous to the binary artimetic operations described above:"
   ]
  },
  {
   "cell_type": "code",
   "execution_count": null,
   "metadata": {
    "collapsed": false
   },
   "outputs": [],
   "source": [
    "print df.gt(df2)\n",
    "print df.ne(df2)"
   ]
  },
  {
   "cell_type": "markdown",
   "metadata": {},
   "source": [
    "### Boolean Redcutions\n",
    "\n",
    "you can apply the reductions: empty, any, all and boolean to provide a way to summarize a boolean result"
   ]
  },
  {
   "cell_type": "code",
   "execution_count": null,
   "metadata": {
    "collapsed": false
   },
   "outputs": [],
   "source": [
    "print df > 0\n",
    "print (df > 0).all()\n",
    "print (df > 0).all(axis='columns')\n",
    "print (df > 0).any()"
   ]
  },
  {
   "cell_type": "markdown",
   "metadata": {
    "collapsed": true
   },
   "source": [
    "### Descriptive statistic\n",
    "\n",
    "A large number of methods for computing descriptive statistics and other related operation on Series, DataFrame, Panel. Most of these are aggregation(hence producing a lower-dimensional result) like sum(), mean(), and quantile(), but more of them, like cumsum(), cumprod(), produce an object of the same size. Generally speaking there methods take an axis argument, just like ndarray {sum, std,...} but the axis can be specified by name or integer\n",
    "\n",
    "- Sereis: no axis argument needed\n",
    "- DataFrame: \"index\"(axis=0, default), \"column\"(axis=1)\n",
    "- Panel: \"item\"(axis=0),\"major\"(axis=1,default), \"minor\"(axis=2)\n",
    "\n",
    "For example:"
   ]
  },
  {
   "cell_type": "code",
   "execution_count": null,
   "metadata": {
    "collapsed": false
   },
   "outputs": [],
   "source": [
    "print df\n",
    "print df.mean()\n",
    "print df.mean(1)"
   ]
  },
  {
   "cell_type": "markdown",
   "metadata": {},
   "source": [
    "All such methods have a skipna option signaling whether to exclude missing data(True by default)"
   ]
  },
  {
   "cell_type": "code",
   "execution_count": null,
   "metadata": {
    "collapsed": false
   },
   "outputs": [],
   "source": [
    "print df.sum(0, skipna=False)\n",
    "print df.sum(1, skipna=True)"
   ]
  },
  {
   "cell_type": "markdown",
   "metadata": {},
   "source": [
    "combined with the broadcasting / aritmetic behavior, one can descibe various statistical procedure, like standardization (rendering data zero mean and standard deviation 1), very concisely"
   ]
  },
  {
   "cell_type": "code",
   "execution_count": null,
   "metadata": {
    "collapsed": false
   },
   "outputs": [],
   "source": [
    "ts_stand = (df - df.mean())/ df.std()\n",
    "print ts_stand\n",
    "print ts_stand.std()\n",
    "\n",
    "xs_stand = df.sub(df.mean(1), axis=0).div(df.std(1), axis=0)\n",
    "print xs_stand.std(1)"
   ]
  },
  {
   "cell_type": "markdown",
   "metadata": {},
   "source": [
    "Note that method like cumsum() and cumprod() preserve the location of NA values:"
   ]
  },
  {
   "cell_type": "code",
   "execution_count": null,
   "metadata": {
    "collapsed": false
   },
   "outputs": [],
   "source": [
    "print df\n",
    "print df.cumsum()"
   ]
  },
  {
   "cell_type": "markdown",
   "metadata": {},
   "source": [
    "here is a quick reference sumarry table of common functions. Each also takes an optional level parameter which applies only if the object has hierarchical index\n",
    "- Function : Description\n",
    "- count: Number of non-null observations\n",
    "- sum: sum of values\n",
    "- mean: mean of values\n",
    "- mad: mean absolute deviation\n",
    "- median: artimetic median of values\n",
    "- min : minimun\n",
    "- max: maximun\n",
    "- mode: xmode\n",
    "- abs: absoulte value\n",
    "- prod: product of values\n",
    "- std: Bessel-corrected sample standart defiveaton\n",
    "- var: unvised variance\n",
    "- sem: stadard error of the mean\n",
    "- skew: sample skwe\n",
    "- kurt: Sample kurtoris\n",
    "- quantile: smaple quantile\n",
    "- comsum: cumulative sum\n",
    "- cumprod: "
   ]
  }
 ],
 "metadata": {
  "anaconda-cloud": {},
  "kernelspec": {
   "display_name": "Python [py35]",
   "language": "python",
   "name": "Python [py35]"
  },
  "language_info": {
   "codemirror_mode": {
    "name": "ipython",
    "version": 3
   },
   "file_extension": ".py",
   "mimetype": "text/x-python",
   "name": "python",
   "nbconvert_exporter": "python",
   "pygments_lexer": "ipython3",
   "version": "3.5.2"
  }
 },
 "nbformat": 4,
 "nbformat_minor": 0
}
