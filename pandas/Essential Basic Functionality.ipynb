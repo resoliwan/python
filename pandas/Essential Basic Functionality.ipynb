{
 "cells": [
  {
   "cell_type": "markdown",
   "metadata": {},
   "source": [
    "here we discuss a lot of the essential functionality common to the pandas data structure. Here's the some of the object used in the examples from previous section"
   ]
  },
  {
   "cell_type": "code",
   "execution_count": 1,
   "metadata": {
    "collapsed": true
   },
   "outputs": [],
   "source": [
    "import pandas as pd\n",
    "import numpy as np"
   ]
  },
  {
   "cell_type": "code",
   "execution_count": 2,
   "metadata": {
    "collapsed": false
   },
   "outputs": [],
   "source": [
    "index = pd.date_range('1/1/2000', periods=8)\n",
    "s = pd.Series(np.random.randn(5), index=['a','b','c','d','e'])\n",
    "df = pd.DataFrame(np.random.randn(8,3), index=index, columns=['A','B','C',])\n",
    "wp = pd.Panel(np.random.randn(2, 5, 4), items=['item1', 'item2'],\n",
    "                  major_axis=pd.date_range('1/1/2000', periods=5),\n",
    "                  minor_axis=['A','B','C','D']\n",
    "              )"
   ]
  },
  {
   "cell_type": "markdown",
   "metadata": {
    "collapsed": true
   },
   "source": [
    "### Head and Tail\n",
    "\n",
    "To view a small sample of a Sereis or DataFrame, use the head() and tail() methods. The defalut number of elements to display is five, but you may pass a custom number."
   ]
  },
  {
   "cell_type": "code",
   "execution_count": 3,
   "metadata": {
    "collapsed": false
   },
   "outputs": [
    {
     "name": "stdout",
     "output_type": "stream",
     "text": [
      "0   -0.972873\n",
      "1   -1.625180\n",
      "2   -0.270693\n",
      "3    0.141191\n",
      "4    0.261722\n",
      "dtype: float64\n",
      "997   -0.772221\n",
      "998    1.955846\n",
      "999   -0.982712\n",
      "dtype: float64\n"
     ]
    }
   ],
   "source": [
    "long_series = pd.Series(np.random.randn(1000))\n",
    "print long_series.head()\n",
    "print long_series.tail(3)"
   ]
  },
  {
   "cell_type": "markdown",
   "metadata": {},
   "source": [
    "### Attributes and the raw ndarray(s)\n",
    "\n",
    "pandas object have a number of attributes enabling you to aceess the metadata\n",
    "\n",
    "- shape: give the axis dimetion of the object. consistent with ndarray\n",
    "- Axis labels\n",
    "> - Sereis: index (only axis)\n",
    "  - DataFrame : index(row) and columns\n",
    "  - Panel : itmes. major_axis, and minor_axis\n",
    "  \n",
    "Note, there attributes can be safely assigned to"
   ]
  },
  {
   "cell_type": "code",
   "execution_count": 4,
   "metadata": {
    "collapsed": false
   },
   "outputs": [
    {
     "name": "stdout",
     "output_type": "stream",
     "text": [
      "                   A         B         C\n",
      "2000-01-01  1.280789  1.748411 -0.152509\n",
      "2000-01-02 -0.235524  1.470467  1.045986\n",
      "['A', 'B', 'C']\n",
      "                   a         b         c\n",
      "2000-01-01  1.280789  1.748411 -0.152509\n",
      "2000-01-02 -0.235524  1.470467  1.045986\n",
      "2000-01-03  0.593322 -0.622625 -0.879623\n",
      "2000-01-04  0.379363 -1.412958  0.650302\n",
      "2000-01-05  0.554830  1.091477 -0.106444\n",
      "2000-01-06 -1.109539 -0.736802  1.047411\n",
      "2000-01-07 -0.747737 -1.734697  0.519764\n",
      "2000-01-08 -1.838872  1.773919  0.983656\n"
     ]
    }
   ],
   "source": [
    "print df[:2]\n",
    "print [x for x in df.columns]\n",
    "df.columns = [x.lower() for x in df.columns]\n",
    "print df"
   ]
  },
  {
   "cell_type": "markdown",
   "metadata": {},
   "source": [
    "To get the actual data inside a data structure, one need only acesss the values property"
   ]
  },
  {
   "cell_type": "code",
   "execution_count": 5,
   "metadata": {
    "collapsed": false
   },
   "outputs": [
    {
     "name": "stdout",
     "output_type": "stream",
     "text": [
      "[ 1.32072342 -0.65913561  0.82362356  1.71852105 -0.83308781]\n",
      "[[ 1.28078884  1.74841074 -0.15250945]\n",
      " [-0.23552368  1.47046691  1.04598602]\n",
      " [ 0.5933221  -0.62262493 -0.87962302]\n",
      " [ 0.37936278 -1.41295761  0.65030245]\n",
      " [ 0.55483025  1.09147715 -0.10644368]\n",
      " [-1.1095388  -0.73680224  1.04741091]\n",
      " [-0.7477374  -1.73469672  0.51976411]\n",
      " [-1.83887165  1.77391887  0.98365632]]\n",
      "[[[-0.36940706 -2.39910193 -1.87432179  1.28067816]\n",
      "  [-1.92597436  0.08598417  1.65846546 -0.63415452]\n",
      "  [-1.40604521 -0.61467081  0.08724799  1.85663859]\n",
      "  [-0.62727826  0.33385138  0.09331673 -0.48008362]\n",
      "  [-0.63404146  0.73937405 -0.13263934 -0.17330037]]\n",
      "\n",
      " [[-0.4479705   0.57889191  1.38640209  0.57836847]\n",
      "  [ 0.14754414  0.10331269 -0.67314599  0.34404298]\n",
      "  [-0.75826778 -1.35185946  0.59261197  2.15333173]\n",
      "  [-0.10361517  1.31539243  0.38497224  0.78309511]\n",
      "  [ 0.30407175 -0.81649013 -1.74633981  0.16627246]]]\n"
     ]
    }
   ],
   "source": [
    "print s.values\n",
    "print df.values\n",
    "print wp.values"
   ]
  },
  {
   "cell_type": "markdown",
   "metadata": {},
   "source": [
    "if a DataFrame or Panel homogeneously-typed data, the ndarray can actually be modified in place, and the changes will be reflected in the data structure. For heterogeneous data (e.g some of the DataFrame's columns are not all the same dtype), this will not be case. the values attribute itself, unlike the axis labels, cannot be assigned to.\n",
    "\n",
    "> *Note* When working with hetergeneous data, the dtype of the resulting ndarray will be choosen to accommodate all of the data involved.\n",
    "For example. if string are involved, the result will be of object dtype. if there are only float and integers, the resulting array will be of float dtype"
   ]
  },
  {
   "cell_type": "markdown",
   "metadata": {
    "collapsed": true
   },
   "source": [
    "## Flexible binary operations\n",
    "with binary operation between pandas data structures, there are two key point of interest:\n",
    "\n",
    "- broadcasting behavior between higher ( e.g DataFrame) and lower-dimensional(e.g Series) objects\n",
    "- missing data in computation\n",
    "\n",
    "\n",
    "\n",
    "### Matching / broadcasting behavior\n",
    "\n",
    "DataFrame has the methods add, sub, mul, div and related function radd, rsub... for carrying out binary operations. For broadcasting behavior. Series input is of primary interest, Using these functions, you can use to either match on the index or columns via the axis keyword"
   ]
  },
  {
   "cell_type": "code",
   "execution_count": 14,
   "metadata": {
    "collapsed": false
   },
   "outputs": [
    {
     "name": "stdout",
     "output_type": "stream",
     "text": [
      "        one     three       two\n",
      "a  0.159327       NaN  0.911939\n",
      "b  0.129871 -0.467140 -1.409027\n",
      "c -0.210639 -0.531240 -2.085780\n",
      "d       NaN -0.393023  0.278122\n",
      "one      0.129871\n",
      "three   -0.467140\n",
      "two     -1.409027\n",
      "Name: b, dtype: float64\n",
      "a    0.911939\n",
      "b   -1.409027\n",
      "c   -2.085780\n",
      "d    0.278122\n",
      "Name: two, dtype: float64\n",
      "        one     three       two\n",
      "a  0.029456       NaN  2.320966\n",
      "b  0.000000  0.000000  0.000000\n",
      "c -0.340510 -0.064099 -0.676753\n",
      "d       NaN  0.074117  1.687148\n",
      "        one     three       two\n",
      "a  0.029456       NaN  2.320966\n",
      "b  0.000000  0.000000  0.000000\n",
      "c -0.340510 -0.064099 -0.676753\n",
      "d       NaN  0.074117  1.687148\n",
      "        one     three  two\n",
      "a -0.752612       NaN  0.0\n",
      "b  1.538898  0.941886  0.0\n",
      "c  1.875141  1.554540  0.0\n",
      "d       NaN -0.671145  0.0\n",
      "        one     three  two\n",
      "a -0.752612       NaN  0.0\n",
      "b  1.538898  0.941886  0.0\n",
      "c  1.875141  1.554540  0.0\n",
      "d       NaN -0.671145  0.0\n"
     ]
    }
   ],
   "source": [
    "df = pd.DataFrame({\n",
    "        'one': pd.Series(np.random.randn(3), index=['a', 'b', 'c']),\n",
    "        'two': pd.Series(np.random.randn(4), index=['a', 'b', 'c', 'd']),\n",
    "        'three': pd.Series(np.random.randn(3), index=['b', 'c', 'd'])\n",
    "    })\n",
    "\n",
    "print df\n",
    "row = df.ix[1]\n",
    "print row\n",
    "column = df['two']\n",
    "print column\n",
    "\n",
    "print df.sub(row, axis='columns')\n",
    "print df.sub(row, axis=1)\n",
    "print df.sub(column, axis='index')\n",
    "print df.sub(column, axis=0)\n"
   ]
  },
  {
   "cell_type": "markdown",
   "metadata": {},
   "source": [
    "Futuremore you can align a level of a multi-indexed DataFrame with a Series"
   ]
  },
  {
   "cell_type": "code",
   "execution_count": 22,
   "metadata": {
    "collapsed": false
   },
   "outputs": [
    {
     "name": "stdout",
     "output_type": "stream",
     "text": [
      "        one     three  two\n",
      "a -0.752612       NaN  0.0\n",
      "b  1.538898  0.941886  0.0\n",
      "c  1.875141  1.554540  0.0\n",
      "d       NaN -0.671145  0.0\n",
      "        one     three       two\n",
      "a  0.159327       NaN  0.911939\n",
      "b  0.129871 -0.467140 -1.409027\n",
      "c -0.210639 -0.531240 -2.085780\n",
      "d       NaN -0.393023  0.278122\n"
     ]
    }
   ],
   "source": [
    "dfmi = df.copy()\n",
    "dfmi.indes = pd.MultiIndex.from_tuples([(1, 'a'), (1, 'b'), (1, 'c'),(2, 'a')], names=['first','second'])\n",
    "print dfmi.sub(column, axis=0, level='second')\n",
    "print dfmi"
   ]
  },
  {
   "cell_type": "markdown",
   "metadata": {},
   "source": [
    "### Missing data / operation with fill values\n",
    "\n",
    "in Series and DataFrame (though not yet in Panel), the arithmetic funcitons have the option of inputting a fill_values, namely a value to substitute when at most one of the values at a location are missing.\n",
    "For Example when adding two dataFrame objects,  you may wish to treat NaN as 0 Unless both DataFrame are missing that values, in which case the result will be NaN( you can later replace NaN with some other values using fillna if you wish)"
   ]
  },
  {
   "cell_type": "code",
   "execution_count": 30,
   "metadata": {
    "collapsed": false
   },
   "outputs": [
    {
     "name": "stdout",
     "output_type": "stream",
     "text": [
      "        one     three       two\n",
      "a  0.159327       NaN  0.911939\n",
      "b  0.129871 -0.467140 -1.409027\n",
      "c -0.210639 -0.531240 -2.085780\n",
      "d       NaN -0.393023  0.278122\n",
      "        one      three       two\n",
      "a  0.159327  12.000000  0.911939\n",
      "b  0.129871  -0.467140 -1.409027\n",
      "c -0.210639  -0.531240 -2.085780\n",
      "d       NaN  -0.393023  0.278122\n",
      "        one     three       two\n",
      "a  0.318654       NaN  1.823878\n",
      "b  0.259742 -0.934281 -2.818053\n",
      "c -0.421279 -1.062479 -4.171560\n",
      "d       NaN -0.786046  0.556243\n",
      "        one      three       two\n",
      "a  0.318654  12.000000  1.823878\n",
      "b  0.259742  -0.934281 -2.818053\n",
      "c -0.421279  -1.062479 -4.171560\n",
      "d       NaN  -0.786046  0.556243\n"
     ]
    }
   ],
   "source": [
    "print df\n",
    "df2 = df.copy()\n",
    "df2.iloc[0][1] = 12\n",
    "print df2\n",
    "print df + df2\n",
    "print df.add(df2, fill_value=0)"
   ]
  },
  {
   "cell_type": "code",
   "execution_count": null,
   "metadata": {
    "collapsed": true
   },
   "outputs": [],
   "source": []
  }
 ],
 "metadata": {
  "kernelspec": {
   "display_name": "Python 2",
   "language": "python",
   "name": "python2"
  },
  "language_info": {
   "codemirror_mode": {
    "name": "ipython",
    "version": 2
   },
   "file_extension": ".py",
   "mimetype": "text/x-python",
   "name": "python",
   "nbconvert_exporter": "python",
   "pygments_lexer": "ipython2",
   "version": "2.7.11"
  }
 },
 "nbformat": 4,
 "nbformat_minor": 0
}
