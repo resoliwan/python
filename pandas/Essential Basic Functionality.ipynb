{
 "cells": [
  {
   "cell_type": "markdown",
   "metadata": {},
   "source": [
    "here we discuss a lot of the essential functionality common to the pandas data structure. Here's the some of the object used in the examples from previous section"
   ]
  },
  {
   "cell_type": "code",
   "execution_count": 1,
   "metadata": {
    "collapsed": true
   },
   "outputs": [],
   "source": [
    "import pandas as pd\n",
    "import numpy as np"
   ]
  },
  {
   "cell_type": "code",
   "execution_count": 2,
   "metadata": {
    "collapsed": false
   },
   "outputs": [],
   "source": [
    "index = pd.date_range('1/1/2000', periods=8)\n",
    "s = pd.Series(np.random.randn(5), index=['a','b','c','d','e'])\n",
    "df = pd.DataFrame(np.random.randn(8,3), index=index, columns=['A','B','C',])\n",
    "wp = pd.Panel(np.random.randn(2, 5, 4), items=['item1', 'item2'],\n",
    "                  major_axis=pd.date_range('1/1/2000', periods=5),\n",
    "                  minor_axis=['A','B','C','D']\n",
    "              )"
   ]
  },
  {
   "cell_type": "markdown",
   "metadata": {
    "collapsed": true
   },
   "source": [
    "### Head and Tail\n",
    "\n",
    "To view a small sample of a Sereis or DataFrame, use the head() and tail() methods. The defalut number of elements to display is five, but you may pass a custom number."
   ]
  },
  {
   "cell_type": "code",
   "execution_count": 3,
   "metadata": {
    "collapsed": false
   },
   "outputs": [
    {
     "name": "stdout",
     "output_type": "stream",
     "text": [
      "0    1.600384\n",
      "1   -0.407873\n",
      "2    0.359483\n",
      "3    0.532786\n",
      "4    1.210273\n",
      "dtype: float64\n",
      "997   -0.544460\n",
      "998    1.228556\n",
      "999    1.610510\n",
      "dtype: float64\n"
     ]
    }
   ],
   "source": [
    "long_series = pd.Series(np.random.randn(1000))\n",
    "print long_series.head()\n",
    "print long_series.tail(3)"
   ]
  },
  {
   "cell_type": "markdown",
   "metadata": {},
   "source": [
    "### Attributes and the raw ndarray(s)\n",
    "\n",
    "pandas object have a number of attributes enabling you to aceess the metadata\n",
    "\n",
    "- shape: give the axis dimetion of the object. consistent with ndarray\n",
    "- Axis labels\n",
    "> - Sereis: index (only axis)\n",
    "  - DataFrame : index(row) and columns\n",
    "  - Panel : itmes. major_axis, and minor_axis\n",
    "  \n",
    "Note, there attributes can be safely assigned to"
   ]
  },
  {
   "cell_type": "code",
   "execution_count": 4,
   "metadata": {
    "collapsed": false
   },
   "outputs": [
    {
     "name": "stdout",
     "output_type": "stream",
     "text": [
      "                   A         B         C\n",
      "2000-01-01  0.145118  0.630566  0.337466\n",
      "2000-01-02 -0.006667 -1.635134 -0.154327\n",
      "['A', 'B', 'C']\n",
      "                   a         b         c\n",
      "2000-01-01  0.145118  0.630566  0.337466\n",
      "2000-01-02 -0.006667 -1.635134 -0.154327\n",
      "2000-01-03 -1.993847  0.591524 -1.615003\n",
      "2000-01-04 -0.701164  0.183968  1.112280\n",
      "2000-01-05 -0.625369  2.013312 -1.447237\n",
      "2000-01-06  0.624275 -2.083235 -0.161841\n",
      "2000-01-07 -0.928790  2.062428  3.404676\n",
      "2000-01-08 -0.142214 -0.921791  0.230453\n"
     ]
    }
   ],
   "source": [
    "print df[:2]\n",
    "print [x for x in df.columns]\n",
    "df.columns = [x.lower() for x in df.columns]\n",
    "print df"
   ]
  },
  {
   "cell_type": "markdown",
   "metadata": {},
   "source": [
    "To get the actual data inside a data structure, one need only acesss the values property"
   ]
  },
  {
   "cell_type": "code",
   "execution_count": 5,
   "metadata": {
    "collapsed": false
   },
   "outputs": [
    {
     "name": "stdout",
     "output_type": "stream",
     "text": [
      "[-1.63140465  0.13828657  0.58947383  1.12658133  0.88258443]\n",
      "[[ 0.14511772  0.63056563  0.33746631]\n",
      " [-0.00666655 -1.63513443 -0.15432732]\n",
      " [-1.99384747  0.59152437 -1.61500302]\n",
      " [-0.70116449  0.18396827  1.1122797 ]\n",
      " [-0.62536948  2.01331164 -1.44723727]\n",
      " [ 0.624275   -2.08323481 -0.16184054]\n",
      " [-0.92878975  2.0624284   3.40467586]\n",
      " [-0.14221446 -0.92179092  0.23045339]]\n",
      "[[[  4.53614677e-01   1.19413750e+00   8.83063425e-01   2.01563526e-02]\n",
      "  [  1.02468534e+00   6.25340607e-01   6.99774812e-01   3.31339568e-01]\n",
      "  [  7.14750819e-04  -5.09452983e-01   5.29484013e-01   8.46319166e-01]\n",
      "  [  3.05680585e-01  -4.29092971e-01  -8.93992702e-01   2.27485822e-01]\n",
      "  [  3.11783753e-01  -4.39327881e-01   5.74645376e-01   2.99857797e-01]]\n",
      "\n",
      " [[ -1.27069649e+00  -8.47117176e-01   1.61655553e+00  -2.80847866e-01]\n",
      "  [ -5.18218421e-01   1.70342023e+00   7.13978108e-01   5.98623046e-01]\n",
      "  [ -6.04164928e-02  -3.32276393e-01   7.02853576e-01   1.36219867e-01]\n",
      "  [  1.10780688e+00   9.18750383e-01   1.77985253e+00  -4.12829649e-01]\n",
      "  [ -1.63698758e+00  -5.17031279e-01  -7.29118597e-01   1.35222058e+00]]]\n"
     ]
    }
   ],
   "source": [
    "print s.values\n",
    "print df.values\n",
    "print wp.values"
   ]
  },
  {
   "cell_type": "markdown",
   "metadata": {},
   "source": [
    "if a DataFrame or Panel homogeneously-typed data, the ndarray can actually be modified in place, and the changes will be reflected in the data structure. For heterogeneous data (e.g some of the DataFrame's columns are not all the same dtype), this will not be case. the values attribute itself, unlike the axis labels, cannot be assigned to.\n",
    "\n",
    "> *Note* When working with hetergeneous data, the dtype of the resulting ndarray will be choosen to accommodate all of the data involved.\n",
    "For example. if string are involved, the result will be of object dtype. if there are only float and integers, the resulting array will be of float dtype"
   ]
  },
  {
   "cell_type": "markdown",
   "metadata": {
    "collapsed": true
   },
   "source": [
    "## Flexible binary operations\n",
    "with binary operation between pandas data structures, there are two key point of interest:\n",
    "\n",
    "- broadcasting behavior between higher ( e.g DataFrame) and lower-dimensional(e.g Series) objects\n",
    "- missing data in computation\n",
    "\n",
    "\n",
    "\n",
    "### Matching / broadcasting behavior\n",
    "\n",
    "DataFrame has the methods add, sub, mul, div and related function radd, rsub... for carrying out binary operations. For broadcasting behavior. Series input is of primary interest, Using these functions, you can use to either match on the index or columns via the axis keyword"
   ]
  },
  {
   "cell_type": "code",
   "execution_count": 6,
   "metadata": {
    "collapsed": false
   },
   "outputs": [
    {
     "name": "stdout",
     "output_type": "stream",
     "text": [
      "        one     three       two\n",
      "a -1.076256       NaN -0.843741\n",
      "b  0.594169 -0.390963  0.218790\n",
      "c -0.347490 -0.612919 -0.426137\n",
      "d       NaN -1.188434 -0.955574\n",
      "one      0.594169\n",
      "three   -0.390963\n",
      "two      0.218790\n",
      "Name: b, dtype: float64\n",
      "a   -0.843741\n",
      "b    0.218790\n",
      "c   -0.426137\n",
      "d   -0.955574\n",
      "Name: two, dtype: float64\n",
      "        one     three       two\n",
      "a -1.670425       NaN -1.062532\n",
      "b  0.000000  0.000000  0.000000\n",
      "c -0.941659 -0.221956 -0.644928\n",
      "d       NaN -0.797470 -1.174364\n",
      "        one     three       two\n",
      "a -1.670425       NaN -1.062532\n",
      "b  0.000000  0.000000  0.000000\n",
      "c -0.941659 -0.221956 -0.644928\n",
      "d       NaN -0.797470 -1.174364\n",
      "        one     three  two\n",
      "a -0.232515       NaN  0.0\n",
      "b  0.375378 -0.609754  0.0\n",
      "c  0.078647 -0.186782  0.0\n",
      "d       NaN -0.232860  0.0\n",
      "        one     three  two\n",
      "a -0.232515       NaN  0.0\n",
      "b  0.375378 -0.609754  0.0\n",
      "c  0.078647 -0.186782  0.0\n",
      "d       NaN -0.232860  0.0\n"
     ]
    }
   ],
   "source": [
    "df = pd.DataFrame({\n",
    "        'one': pd.Series(np.random.randn(3), index=['a', 'b', 'c']),\n",
    "        'two': pd.Series(np.random.randn(4), index=['a', 'b', 'c', 'd']),\n",
    "        'three': pd.Series(np.random.randn(3), index=['b', 'c', 'd'])\n",
    "    })\n",
    "\n",
    "print df\n",
    "row = df.ix[1]\n",
    "print row\n",
    "column = df['two']\n",
    "print column\n",
    "\n",
    "print df.sub(row, axis='columns')\n",
    "print df.sub(row, axis=1)\n",
    "print df.sub(column, axis='index')\n",
    "print df.sub(column, axis=0)\n"
   ]
  },
  {
   "cell_type": "markdown",
   "metadata": {},
   "source": [
    "Futuremore you can align a level of a multi-indexed DataFrame with a Series"
   ]
  },
  {
   "cell_type": "code",
   "execution_count": 7,
   "metadata": {
    "collapsed": false
   },
   "outputs": [
    {
     "name": "stdout",
     "output_type": "stream",
     "text": [
      "        one     three  two\n",
      "a -0.232515       NaN  0.0\n",
      "b  0.375378 -0.609754  0.0\n",
      "c  0.078647 -0.186782  0.0\n",
      "d       NaN -0.232860  0.0\n",
      "        one     three       two\n",
      "a -1.076256       NaN -0.843741\n",
      "b  0.594169 -0.390963  0.218790\n",
      "c -0.347490 -0.612919 -0.426137\n",
      "d       NaN -1.188434 -0.955574\n"
     ]
    }
   ],
   "source": [
    "dfmi = df.copy()\n",
    "dfmi.indes = pd.MultiIndex.from_tuples([(1, 'a'), (1, 'b'), (1, 'c'),(2, 'a')], names=['first','second'])\n",
    "print dfmi.sub(column, axis=0, level='second')\n",
    "print dfmi"
   ]
  },
  {
   "cell_type": "markdown",
   "metadata": {},
   "source": [
    "### Missing data / operation with fill values\n",
    "\n",
    "in Series and DataFrame (though not yet in Panel), the arithmetic funcitons have the option of inputting a fill_values, namely a value to substitute when at most one of the values at a location are missing.\n",
    "For Example when adding two dataFrame objects,  you may wish to treat NaN as 0 Unless both DataFrame are missing that values, in which case the result will be NaN( you can later replace NaN with some other values using fillna if you wish)"
   ]
  },
  {
   "cell_type": "code",
   "execution_count": 8,
   "metadata": {
    "collapsed": false
   },
   "outputs": [
    {
     "name": "stdout",
     "output_type": "stream",
     "text": [
      "        one     three       two\n",
      "a -1.076256       NaN -0.843741\n",
      "b  0.594169 -0.390963  0.218790\n",
      "c -0.347490 -0.612919 -0.426137\n",
      "d       NaN -1.188434 -0.955574\n",
      "        one      three       two\n",
      "a -1.076256  12.000000 -0.843741\n",
      "b  0.594169  -0.390963  0.218790\n",
      "c -0.347490  -0.612919 -0.426137\n",
      "d       NaN  -1.188434 -0.955574\n",
      "        one     three       two\n",
      "a -2.152513       NaN -1.687483\n",
      "b  1.188337 -0.781927  0.437581\n",
      "c -0.694980 -1.225839 -0.852275\n",
      "d       NaN -2.376868 -1.911147\n",
      "        one      three       two\n",
      "a -2.152513  12.000000 -1.687483\n",
      "b  1.188337  -0.781927  0.437581\n",
      "c -0.694980  -1.225839 -0.852275\n",
      "d       NaN  -2.376868 -1.911147\n"
     ]
    }
   ],
   "source": [
    "print df\n",
    "df2 = df.copy()\n",
    "df2.iloc[0][1] = 12\n",
    "print df2\n",
    "print df + df2\n",
    "print df.add(df2, fill_value=0)"
   ]
  },
  {
   "cell_type": "markdown",
   "metadata": {
    "collapsed": true
   },
   "source": [
    "### Flexible Comparsions\n",
    "\n",
    "pandas introduced binary comparsion methods eq, ne, lt, gt, le and ge to Series and DataFrame whose behavior is analogous to the binary artimetic operations described above:"
   ]
  },
  {
   "cell_type": "code",
   "execution_count": 9,
   "metadata": {
    "collapsed": false
   },
   "outputs": [
    {
     "name": "stdout",
     "output_type": "stream",
     "text": [
      "     one  three    two\n",
      "a  False  False  False\n",
      "b  False  False  False\n",
      "c  False  False  False\n",
      "d  False  False  False\n",
      "     one  three    two\n",
      "a  False   True  False\n",
      "b  False  False  False\n",
      "c  False  False  False\n",
      "d   True  False  False\n"
     ]
    }
   ],
   "source": [
    "print df.gt(df2)\n",
    "print df.ne(df2)"
   ]
  },
  {
   "cell_type": "markdown",
   "metadata": {},
   "source": [
    "### Boolean Redcutions\n",
    "\n",
    "you can apply the reductions: empty, any, all and boolean to provide a way to summarize a boolean result"
   ]
  },
  {
   "cell_type": "code",
   "execution_count": 10,
   "metadata": {
    "collapsed": false
   },
   "outputs": [
    {
     "name": "stdout",
     "output_type": "stream",
     "text": [
      "     one  three    two\n",
      "a  False  False  False\n",
      "b   True  False   True\n",
      "c  False  False  False\n",
      "d  False  False  False\n",
      "one      False\n",
      "three    False\n",
      "two      False\n",
      "dtype: bool\n",
      "a    False\n",
      "b    False\n",
      "c    False\n",
      "d    False\n",
      "dtype: bool\n",
      "one       True\n",
      "three    False\n",
      "two       True\n",
      "dtype: bool\n"
     ]
    }
   ],
   "source": [
    "print df > 0\n",
    "print (df > 0).all()\n",
    "print (df > 0).all(axis='columns')\n",
    "print (df > 0).any()"
   ]
  },
  {
   "cell_type": "markdown",
   "metadata": {
    "collapsed": true
   },
   "source": [
    "### Descriptive statistic\n",
    "\n",
    "A large number of methods for computing descriptive statistics and other related operation on Series, DataFrame, Panel. Most of these are aggregation(hence producing a lower-dimensional result) like sum(), mean(), and quantile(), but more of them, like cumsum(), cumprod(), produce an object of the same size. Generally speaking there methods take an axis argument, just like ndarray {sum, std,...} but the axis can be specified by name or integer\n",
    "\n",
    "- Sereis: no axis argument needed\n",
    "- DataFrame: \"index\"(axis=0, default), \"column\"(axis=1)\n",
    "- Panel: \"item\"(axis=0),\"major\"(axis=1,default), \"minor\"(axis=2)\n",
    "\n",
    "For example:"
   ]
  },
  {
   "cell_type": "code",
   "execution_count": 13,
   "metadata": {
    "collapsed": false
   },
   "outputs": [
    {
     "name": "stdout",
     "output_type": "stream",
     "text": [
      "        one     three       two\n",
      "a -1.076256       NaN -0.843741\n",
      "b  0.594169 -0.390963  0.218790\n",
      "c -0.347490 -0.612919 -0.426137\n",
      "d       NaN -1.188434 -0.955574\n",
      "one     -0.276526\n",
      "three   -0.730772\n",
      "two     -0.501665\n",
      "dtype: float64\n",
      "a   -0.959999\n",
      "b    0.140665\n",
      "c   -0.462182\n",
      "d   -1.072004\n",
      "dtype: float64\n"
     ]
    }
   ],
   "source": [
    "print df\n",
    "print df.mean()\n",
    "print df.mean(1)"
   ]
  },
  {
   "cell_type": "markdown",
   "metadata": {},
   "source": [
    "All such methods have a skipna option signaling whether to exclude missing data(True by default)"
   ]
  },
  {
   "cell_type": "code",
   "execution_count": 15,
   "metadata": {
    "collapsed": false
   },
   "outputs": [
    {
     "name": "stdout",
     "output_type": "stream",
     "text": [
      "one           NaN\n",
      "three         NaN\n",
      "two     -2.006662\n",
      "dtype: float64\n",
      "a   -1.919998\n",
      "b    0.421996\n",
      "c   -1.386547\n",
      "d   -2.144007\n",
      "dtype: float64\n"
     ]
    }
   ],
   "source": [
    "print df.sum(0, skipna=False)\n",
    "print df.sum(1, skipna=True)"
   ]
  },
  {
   "cell_type": "markdown",
   "metadata": {},
   "source": [
    "combined with the broadcasting / aritmetic behavior, one can descibe various statistical procedure, like standardization (rendering data zero mean and standard deviation 1), very concisely"
   ]
  },
  {
   "cell_type": "code",
   "execution_count": 23,
   "metadata": {
    "collapsed": false
   },
   "outputs": [
    {
     "name": "stdout",
     "output_type": "stream",
     "text": [
      "        one     three       two\n",
      "a -0.954936       NaN -0.643478\n",
      "b  1.039672  0.825599  1.355248\n",
      "c -0.084736  0.286335  0.142076\n",
      "d       NaN -1.111934 -0.853846\n",
      "one      1.0\n",
      "three    1.0\n",
      "two      1.0\n",
      "dtype: float64\n",
      "a    1.0\n",
      "b    1.0\n",
      "c    1.0\n",
      "d    1.0\n",
      "dtype: float64\n"
     ]
    }
   ],
   "source": [
    "ts_stand = (df - df.mean())/ df.std()\n",
    "print ts_stand\n",
    "print ts_stand.std()\n",
    "\n",
    "xs_stand = df.sub(df.mean(1), axis=0).div(df.std(1), axis=0)\n",
    "print xs_stand.std(1)"
   ]
  },
  {
   "cell_type": "markdown",
   "metadata": {},
   "source": [
    "Note that method like cumsum() and cumprod() preserve the location of NA values:"
   ]
  },
  {
   "cell_type": "code",
   "execution_count": 25,
   "metadata": {
    "collapsed": false
   },
   "outputs": [
    {
     "name": "stdout",
     "output_type": "stream",
     "text": [
      "        one     three       two\n",
      "a -1.076256       NaN -0.843741\n",
      "b  0.594169 -0.390963  0.218790\n",
      "c -0.347490 -0.612919 -0.426137\n",
      "d       NaN -1.188434 -0.955574\n",
      "        one     three       two\n",
      "a -1.076256       NaN -0.843741\n",
      "b -0.482088 -0.390963 -0.624951\n",
      "c -0.829578 -1.003883 -1.051088\n",
      "d       NaN -2.192317 -2.006662\n"
     ]
    }
   ],
   "source": [
    "print df\n",
    "print df.cumsum()"
   ]
  },
  {
   "cell_type": "markdown",
   "metadata": {},
   "source": [
    "here is a quick reference sumarry table of common functions. Each also takes an optional level parameter which applies only if the object has hierarchical index\n",
    "- Function : Description\n",
    "- count: Number of non-null observations\n",
    "- sum: sum of values\n",
    "- mean: mean of values\n",
    "- mad: mean absolute deviation\n",
    "- median: artimetic median of values\n",
    "- min : minimun\n",
    "- max: maximun\n",
    "- mode: xmode\n",
    "- abs: absoulte value\n",
    "- prod: product of values\n",
    "- std: Bessel-corrected sample standart defiveaton\n",
    "- var: unvised variance\n",
    "- sem: stadard error of the mean\n",
    "- skew: sample skwe\n",
    "- kurt: Sample kurtoris\n",
    "- quantile: smaple quantile\n",
    "- comsum: cumulative sum\n",
    "- cumprod: "
   ]
  }
 ],
 "metadata": {
  "kernelspec": {
   "display_name": "Python 2",
   "language": "python",
   "name": "python2"
  },
  "language_info": {
   "codemirror_mode": {
    "name": "ipython",
    "version": 2
   },
   "file_extension": ".py",
   "mimetype": "text/x-python",
   "name": "python",
   "nbconvert_exporter": "python",
   "pygments_lexer": "ipython2",
   "version": "2.7.11"
  }
 },
 "nbformat": 4,
 "nbformat_minor": 0
}
