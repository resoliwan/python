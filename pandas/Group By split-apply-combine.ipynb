{
 "cells": [
  {
   "cell_type": "markdown",
   "metadata": {},
   "source": [
    "By \"group by\" we are referring to a process involving one or more  of the following step\n",
    "- Splitting the data into groups based on some criteria\n",
    "- Applying a function to each group independently\n",
    "- Combining the results into a data structure"
   ]
  },
  {
   "cell_type": "markdown",
   "metadata": {},
   "source": [
    "of these, the split step is the most straightforward. in fact, in many situations you may wish to split the data set into groups and do someting with those groups yourself. in the apply step, we might wish to following:"
   ]
  },
  {
   "cell_type": "markdown",
   "metadata": {},
   "source": [
    "- Aggregation: computing a summary statistic (or statistic) about each group. Some examples:\n",
    "     - Compute group sums or means\n",
    "     - Compute group sizes / counts"
   ]
  },
  {
   "cell_type": "markdown",
   "metadata": {},
   "source": [
    "- Transfromation: perform some group-specific computations and return a like-indexed. Some example\n",
    "    - Standardizing data ( zscore) within group\n",
    "    - Filling NAs within groups with a value derived from each group"
   ]
  },
  {
   "cell_type": "markdown",
   "metadata": {
    "collapsed": true
   },
   "source": [
    "- Filtation: discard sum groups, according to group-wise computation that evaluate True or Fasle. Some example\n",
    "    - Discarding data that belongs to groups with only a few members\n",
    "    - Filtering out data based on the group sum or mean\n",
    "    "
   ]
  },
  {
   "cell_type": "markdown",
   "metadata": {},
   "source": [
    "- Some combination of the above: GroupBy will examine the results of the apply step and try to return a sensibly combined result if it dosen't fit into either of the above two categories "
   ]
  },
  {
   "cell_type": "markdown",
   "metadata": {},
   "source": [
    "Since the set of object instance method on pandas data sturcture are generally rice and expressvie, we often simple want to invoke, say , a DataFrame function on each group. The name GroupBu should be quite familiar to those whe have used a SQL-based tool (or itertools), in which you can write code like:\n"
   ]
  },
  {
   "cell_type": "markdown",
   "metadata": {},
   "source": [
    "'''\n",
    "SELECT column1, column2\n",
    "FROM someTable\n",
    "GROUP BY column1\n",
    "'''"
   ]
  },
  {
   "cell_type": "markdown",
   "metadata": {},
   "source": [
    "we aim to make operation like the natural and easy to express using pandas. We'll address each area of GroupBy functionality then provied some none-trivial examples/ use cases"
   ]
  },
  {
   "cell_type": "markdown",
   "metadata": {},
   "source": [
    "### Spltting an object into groups\n",
    "\n",
    "pandas object can be split on any their axes. The abstract definition of grouping is to provide a mapping of lables to group names. To create a GroupBy object(more on what the GroupBy object is later), you do folling\n",
    "\n",
    "> grouped = obj.groupby(key)\n",
    "\n",
    "> grouped = obj.groupby(key, axis=1)\n",
    "\n",
    "> goruped = obj.groupby([key1, key2])"
   ]
  },
  {
   "cell_type": "markdown",
   "metadata": {},
   "source": [
    "The mapping can be specified many different ways:\n",
    "    - A Python function, to be called on each of the axis labels\n",
    "    - A list or NumPy arrays of the same length as the seleced axis\n",
    "    - a dict or Sereis, providing a \"label\" -> \"group name\" mapping\n",
    "    - For DataFrame object, a string indicating a columns to be used to group. of coure df.groupby('A') is just syntatic sugar for df.groupby(df['A']), but it makes life simpler\n",
    "    - A list of any of the above things\n",
    "   \n",
    "Collectively, we refre to grouping objects as the keys. For example. consider following DataFrame:"
   ]
  },
  {
   "cell_type": "code",
   "execution_count": 1,
   "metadata": {
    "collapsed": true
   },
   "outputs": [],
   "source": [
    "import pandas as pd\n",
    "import numpy as np"
   ]
  },
  {
   "cell_type": "code",
   "execution_count": 2,
   "metadata": {
    "collapsed": false
   },
   "outputs": [
    {
     "data": {
      "text/html": [
       "<div>\n",
       "<table border=\"1\" class=\"dataframe\">\n",
       "  <thead>\n",
       "    <tr style=\"text-align: right;\">\n",
       "      <th></th>\n",
       "      <th>A</th>\n",
       "      <th>B</th>\n",
       "      <th>C</th>\n",
       "      <th>D</th>\n",
       "    </tr>\n",
       "  </thead>\n",
       "  <tbody>\n",
       "    <tr>\n",
       "      <th>0</th>\n",
       "      <td>foo</td>\n",
       "      <td>one</td>\n",
       "      <td>0.050834</td>\n",
       "      <td>0.423966</td>\n",
       "    </tr>\n",
       "    <tr>\n",
       "      <th>1</th>\n",
       "      <td>bar</td>\n",
       "      <td>one</td>\n",
       "      <td>2.321354</td>\n",
       "      <td>-0.257804</td>\n",
       "    </tr>\n",
       "    <tr>\n",
       "      <th>2</th>\n",
       "      <td>foo</td>\n",
       "      <td>two</td>\n",
       "      <td>1.648755</td>\n",
       "      <td>0.496588</td>\n",
       "    </tr>\n",
       "    <tr>\n",
       "      <th>3</th>\n",
       "      <td>bar</td>\n",
       "      <td>three</td>\n",
       "      <td>0.644570</td>\n",
       "      <td>-0.306532</td>\n",
       "    </tr>\n",
       "    <tr>\n",
       "      <th>4</th>\n",
       "      <td>foo</td>\n",
       "      <td>tow</td>\n",
       "      <td>-0.232748</td>\n",
       "      <td>0.798262</td>\n",
       "    </tr>\n",
       "    <tr>\n",
       "      <th>5</th>\n",
       "      <td>bar</td>\n",
       "      <td>two</td>\n",
       "      <td>-0.508882</td>\n",
       "      <td>-0.985062</td>\n",
       "    </tr>\n",
       "    <tr>\n",
       "      <th>6</th>\n",
       "      <td>foo</td>\n",
       "      <td>one</td>\n",
       "      <td>-0.975162</td>\n",
       "      <td>0.363517</td>\n",
       "    </tr>\n",
       "    <tr>\n",
       "      <th>7</th>\n",
       "      <td>foo</td>\n",
       "      <td>three</td>\n",
       "      <td>-0.862191</td>\n",
       "      <td>-0.986987</td>\n",
       "    </tr>\n",
       "  </tbody>\n",
       "</table>\n",
       "</div>"
      ],
      "text/plain": [
       "     A      B         C         D\n",
       "0  foo    one  0.050834  0.423966\n",
       "1  bar    one  2.321354 -0.257804\n",
       "2  foo    two  1.648755  0.496588\n",
       "3  bar  three  0.644570 -0.306532\n",
       "4  foo    tow -0.232748  0.798262\n",
       "5  bar    two -0.508882 -0.985062\n",
       "6  foo    one -0.975162  0.363517\n",
       "7  foo  three -0.862191 -0.986987"
      ]
     },
     "execution_count": 2,
     "metadata": {},
     "output_type": "execute_result"
    }
   ],
   "source": [
    "df = pd.DataFrame({'A': ['foo', 'bar', 'foo', 'bar',\n",
    "                         'foo', 'bar', 'foo', 'foo'],\n",
    "                   'B': ['one', 'one', 'two', 'three',\n",
    "                         'tow', 'two', 'one', 'three'],\n",
    "                    'C': np.random.randn(8),\n",
    "                    'D': np.random.randn(8),\n",
    "                  })\n",
    "df"
   ]
  },
  {
   "cell_type": "markdown",
   "metadata": {},
   "source": [
    "We could naturally group by either A or B columns or both:"
   ]
  },
  {
   "cell_type": "code",
   "execution_count": 3,
   "metadata": {
    "collapsed": true
   },
   "outputs": [],
   "source": [
    "grouped = df.groupby('A')\n",
    "grouped = df.groupby(['A', 'B'])"
   ]
  },
  {
   "cell_type": "markdown",
   "metadata": {},
   "source": [
    "these will split the DataFrame on its index(rows). we could split by the columns"
   ]
  },
  {
   "cell_type": "code",
   "execution_count": 4,
   "metadata": {
    "collapsed": false
   },
   "outputs": [
    {
     "name": "stdout",
     "output_type": "stream",
     "text": [
      "a\n",
      "vowel\n",
      "b\n",
      "consonant\n"
     ]
    }
   ],
   "source": [
    "def get_letter_type(letter):\n",
    "    print letter\n",
    "    if letter.lower() in 'aeiou':\n",
    "        return 'vowel'\n",
    "    else:\n",
    "        return 'consonant'\n",
    "\n",
    "print get_letter_type('a')\n",
    "print get_letter_type('b')\n",
    "# print get_letter_type(1)"
   ]
  },
  {
   "cell_type": "code",
   "execution_count": 5,
   "metadata": {
    "collapsed": false
   },
   "outputs": [
    {
     "name": "stdout",
     "output_type": "stream",
     "text": [
      "A\n",
      "B\n",
      "C\n",
      "D\n"
     ]
    }
   ],
   "source": [
    "grouped = df.groupby(get_letter_type, axis=1)\n",
    "#grouped = df.groupby(get_letter_type, axis=0) index 가 들어간다 칼럼이 아니라"
   ]
  },
  {
   "cell_type": "markdown",
   "metadata": {},
   "source": [
    "Starting with 0.8 pandas index object now supports duplicate values. if a non-unique index used as the group key in a groupby operation. all values for the same index value  will be considered to be in one group and the the output of aggregation functions will be only contain unique index values:"
   ]
  },
  {
   "cell_type": "code",
   "execution_count": 6,
   "metadata": {
    "collapsed": false
   },
   "outputs": [
    {
     "name": "stdout",
     "output_type": "stream",
     "text": [
      "1     4\n",
      "2    20\n",
      "3     6\n",
      "dtype: int64\n",
      "1    10\n",
      "2     5\n",
      "3    30\n",
      "dtype: int64\n",
      "1    14\n",
      "2    25\n",
      "3    36\n",
      "dtype: int64\n"
     ]
    }
   ],
   "source": [
    "lst = [1, 2, 3, 1, 2, 3]\n",
    "s = pd.Series([4,20,6,10,5,30], lst)\n",
    "grouped = s.groupby(level=0)# if mulit index level 0 is the first colum\n",
    "print grouped.first()# 각 그룹의 첫번째 로우를 리턴 return first row at each group\n",
    "print grouped.last()# 각 그룹의 마지막 로우를 리턴 return last row at each group\n",
    "print grouped.sum()"
   ]
  },
  {
   "cell_type": "markdown",
   "metadata": {},
   "source": [
    "Note that no splitting occurs until it's need. Creating the GroupBy object only verify that you've passed a valid mapping"
   ]
  },
  {
   "cell_type": "markdown",
   "metadata": {},
   "source": [
    "### Group By sorting\n",
    "\n",
    "By default the group keys are sorting during group by operation. You may however pass sort=False for potentail speedups:"
   ]
  },
  {
   "cell_type": "code",
   "execution_count": 7,
   "metadata": {
    "collapsed": false
   },
   "outputs": [
    {
     "name": "stdout",
     "output_type": "stream",
     "text": [
      "   X   Y\n",
      "0  B   1\n",
      "1  A  10\n",
      "2  B   2\n",
      "3  A   3\n",
      "4  A   4\n",
      "    Y\n",
      "X    \n",
      "A  17\n",
      "B   3\n",
      "    Y\n",
      "X    \n",
      "B   3\n",
      "A  17\n"
     ]
    }
   ],
   "source": [
    "df2 = pd.DataFrame({'X' : ['B','A', 'B', 'A', 'A'], 'Y' : [1, 10, 2, 3, 4]})\n",
    "print df2\n",
    "\n",
    "print df2.groupby('X').sum()\n",
    "print df2.groupby('X', sort=False).sum()"
   ]
  },
  {
   "cell_type": "markdown",
   "metadata": {},
   "source": [
    "Note that groupby will be preserve the order in which observations are sorted within each group. For eaxmple, the groups created by groupby() below are in the order the appeared in the original DataFrame"
   ]
  },
  {
   "cell_type": "code",
   "execution_count": 8,
   "metadata": {
    "collapsed": false
   },
   "outputs": [
    {
     "name": "stdout",
     "output_type": "stream",
     "text": [
      "   X  Y\n",
      "0  A  1\n",
      "2  A  3\n",
      "   X  Y\n",
      "1  B  4\n",
      "3  B  2\n"
     ]
    }
   ],
   "source": [
    "df3 = pd.DataFrame({'X' : ['A', 'B', 'A', 'B'], 'Y' : [1, 4, 3, 2]})\n",
    "print df3.groupby('X').get_group('A')\n",
    "print df3.groupby('X').get_group('B')\n"
   ]
  },
  {
   "cell_type": "markdown",
   "metadata": {},
   "source": [
    "### GroupBy objects Attributes\n",
    "\n",
    "the groups attribute is a dict whose keys are the computed unique groups and corresponging values being the axis labels beloinging to each group. in the above example we have:"
   ]
  },
  {
   "cell_type": "code",
   "execution_count": 9,
   "metadata": {
    "collapsed": false
   },
   "outputs": [
    {
     "name": "stdout",
     "output_type": "stream",
     "text": [
      "     A      B         C         D\n",
      "0  foo    one -2.217326 -0.497954\n",
      "1  bar    one -2.111401  0.092335\n",
      "2  foo    two  1.041459  0.395484\n",
      "3  bar  three -0.648543  1.635534\n",
      "4  foo    tow  0.024635  1.017739\n",
      "5  bar    two  0.376798 -1.348295\n",
      "6  foo    one -2.046664  0.449330\n",
      "7  foo  three  0.783075  0.216307\n",
      "{'foo': [0, 2, 4, 6, 7], 'bar': [1, 3, 5]}\n",
      "A\n",
      "B\n",
      "C\n",
      "D\n",
      "{'consonant': ['B', 'C', 'D'], 'vowel': ['A']}\n"
     ]
    }
   ],
   "source": [
    "df = pd.DataFrame({'A': ['foo', 'bar', 'foo', 'bar',\n",
    "                         'foo', 'bar', 'foo', 'foo'],\n",
    "                   'B': ['one', 'one', 'two', 'three',\n",
    "                         'tow', 'two', 'one', 'three'],\n",
    "                    'C': np.random.randn(8),\n",
    "                    'D': np.random.randn(8)\n",
    "                   })\n",
    "print df\n",
    "print df.groupby('A').groups\n",
    "print df.groupby(get_letter_type, axis=1).groups"
   ]
  },
  {
   "cell_type": "markdown",
   "metadata": {},
   "source": [
    "calling the standard Python len function on the groupby object just return the length of the groups dict. so it is largely just a convenience"
   ]
  },
  {
   "cell_type": "code",
   "execution_count": 10,
   "metadata": {
    "collapsed": false
   },
   "outputs": [
    {
     "name": "stdout",
     "output_type": "stream",
     "text": [
      "{('foo', 'three'): [7], ('bar', 'two'): [5], ('foo', 'one'): [0, 6], ('bar', 'one'): [1], ('foo', 'tow'): [4], ('bar', 'three'): [3], ('foo', 'two'): [2]}\n",
      "7\n"
     ]
    }
   ],
   "source": [
    "grouped = df.groupby(['A', 'B'])\n",
    "print grouped.groups\n",
    "print len(grouped)"
   ]
  },
  {
   "cell_type": "markdown",
   "metadata": {},
   "source": [
    "GroupBy will tab complete colum names (and other attributes)"
   ]
  },
  {
   "cell_type": "markdown",
   "metadata": {},
   "source": [
    "### GroupBy With Multiindex\n",
    "\n",
    "With hierachically-indexed data, it's quite natural to group by one of the level of hierachically\n",
    "\n",
    "Let's create a series with a two-level MultiIndex"
   ]
  },
  {
   "cell_type": "code",
   "execution_count": 11,
   "metadata": {
    "collapsed": false
   },
   "outputs": [
    {
     "name": "stdout",
     "output_type": "stream",
     "text": [
      "first  second\n",
      "bar    one       1.768040\n",
      "       two      -0.612406\n",
      "baz    one      -0.050725\n",
      "       two      -1.344785\n",
      "foo    one       0.918940\n",
      "       two      -0.992633\n",
      "qux    one      -0.694429\n",
      "       two       1.969538\n",
      "dtype: float64\n"
     ]
    }
   ],
   "source": [
    "arrays = [['bar', 'bar', 'baz', 'baz', 'foo', 'foo', 'qux', 'qux'],\n",
    "          ['one', 'two', 'one', 'two', 'one', 'two', 'one', 'two']]\n",
    "index = pd.MultiIndex.from_arrays(arrays, names=['first', 'second'])\n",
    "s = pd.Series(np.random.randn(8), index=index)\n",
    "print s"
   ]
  },
  {
   "cell_type": "markdown",
   "metadata": {},
   "source": [
    "We can group by one of the levels in s."
   ]
  },
  {
   "cell_type": "code",
   "execution_count": 12,
   "metadata": {
    "collapsed": false
   },
   "outputs": [
    {
     "name": "stdout",
     "output_type": "stream",
     "text": [
      "{'baz': [('baz', 'one'), ('baz', 'two')], 'foo': [('foo', 'one'), ('foo', 'two')], 'bar': [('bar', 'one'), ('bar', 'two')], 'qux': [('qux', 'one'), ('qux', 'two')]}\n",
      "first\n",
      "bar    1.155633\n",
      "baz   -1.395510\n",
      "foo   -0.073692\n",
      "qux    1.275109\n",
      "dtype: float64\n"
     ]
    }
   ],
   "source": [
    "grouped = s.groupby(level=0)\n",
    "print grouped.groups\n",
    "print grouped.sum()"
   ]
  },
  {
   "cell_type": "markdown",
   "metadata": {},
   "source": [
    "if the MultiIndex has name specified, these can be passed instead of the level number"
   ]
  },
  {
   "cell_type": "code",
   "execution_count": 13,
   "metadata": {
    "collapsed": false
   },
   "outputs": [
    {
     "name": "stdout",
     "output_type": "stream",
     "text": [
      "second\n",
      "one    1.941825\n",
      "two   -0.980285\n",
      "dtype: float64\n",
      "second\n",
      "one    1.941825\n",
      "two   -0.980285\n",
      "dtype: float64\n"
     ]
    }
   ],
   "source": [
    "print s.groupby(level='second').sum()\n",
    "print s.groupby(level=1).sum()"
   ]
  },
  {
   "cell_type": "markdown",
   "metadata": {},
   "source": [
    "Also of v0.6, grouping with mutiple level is supported"
   ]
  },
  {
   "cell_type": "code",
   "execution_count": 14,
   "metadata": {
    "collapsed": false
   },
   "outputs": [
    {
     "data": {
      "text/plain": [
       "first  second\n",
       "bar    one       1.768040\n",
       "       two      -0.612406\n",
       "baz    one      -0.050725\n",
       "       two      -1.344785\n",
       "foo    one       0.918940\n",
       "       two      -0.992633\n",
       "qux    one      -0.694429\n",
       "       two       1.969538\n",
       "dtype: float64"
      ]
     },
     "execution_count": 14,
     "metadata": {},
     "output_type": "execute_result"
    }
   ],
   "source": [
    "s.groupby(level=['first', 'second']).sum()"
   ]
  },
  {
   "cell_type": "markdown",
   "metadata": {},
   "source": [
    "### DataFrame column selection in GroupBy\n",
    "\n",
    "Once you create groupby object from a DataFrame, for Example, you might do something different for each of colums.\n",
    "Thus, using[] similar to getting a columns from a DataFrame, you can do:"
   ]
  },
  {
   "cell_type": "code",
   "execution_count": 15,
   "metadata": {
    "collapsed": false
   },
   "outputs": [
    {
     "name": "stdout",
     "output_type": "stream",
     "text": [
      "            C         D\n",
      "A                      \n",
      "bar -2.383146  0.379575\n",
      "foo -2.414820  1.580907\n",
      "A\n",
      "bar   -2.383146\n",
      "foo   -2.414820\n",
      "Name: C, dtype: float64\n"
     ]
    }
   ],
   "source": [
    "grouped = df.groupby(['A'])\n",
    "print grouped.sum()\n",
    "print grouped['C'].sum()"
   ]
  },
  {
   "cell_type": "markdown",
   "metadata": {},
   "source": [
    "this is mainly syntatic sugar for the alternatvie and much more verbose:"
   ]
  },
  {
   "cell_type": "code",
   "execution_count": 16,
   "metadata": {
    "collapsed": false
   },
   "outputs": [
    {
     "data": {
      "text/plain": [
       "A\n",
       "bar   -2.383146\n",
       "foo   -2.414820\n",
       "Name: C, dtype: float64"
      ]
     },
     "execution_count": 16,
     "metadata": {},
     "output_type": "execute_result"
    }
   ],
   "source": [
    "df['C'].groupby(df['A']).sum()"
   ]
  },
  {
   "cell_type": "markdown",
   "metadata": {},
   "source": [
    "Additionally this method avoids recomputing the interal grouping information derived from the passed key"
   ]
  },
  {
   "cell_type": "markdown",
   "metadata": {},
   "source": [
    "### Iterating through groups\n",
    "\n",
    "With the group by object in hand, iterating throug the grouped data is very natural and functions similarly to itertools.groupby:"
   ]
  },
  {
   "cell_type": "code",
   "execution_count": 17,
   "metadata": {
    "collapsed": false
   },
   "outputs": [
    {
     "name": "stdout",
     "output_type": "stream",
     "text": [
      "bar\n",
      "     A      B         C         D\n",
      "1  bar    one -2.111401  0.092335\n",
      "3  bar  three -0.648543  1.635534\n",
      "5  bar    two  0.376798 -1.348295\n",
      "foo\n",
      "     A      B         C         D\n",
      "0  foo    one -2.217326 -0.497954\n",
      "2  foo    two  1.041459  0.395484\n",
      "4  foo    tow  0.024635  1.017739\n",
      "6  foo    one -2.046664  0.449330\n",
      "7  foo  three  0.783075  0.216307\n"
     ]
    }
   ],
   "source": [
    "grouped = df.groupby('A')\n",
    "for name, group in grouped:\n",
    "    print name\n",
    "    print group"
   ]
  },
  {
   "cell_type": "markdown",
   "metadata": {},
   "source": [
    "in the case of grouping by multiple keys, the group names will be a tuple"
   ]
  },
  {
   "cell_type": "code",
   "execution_count": 18,
   "metadata": {
    "collapsed": false
   },
   "outputs": [
    {
     "name": "stdout",
     "output_type": "stream",
     "text": [
      "('bar', 'one')\n",
      "     A    B         C         D\n",
      "1  bar  one -2.111401  0.092335\n",
      "('bar', 'three')\n",
      "     A      B         C         D\n",
      "3  bar  three -0.648543  1.635534\n",
      "('bar', 'two')\n",
      "     A    B         C         D\n",
      "5  bar  two  0.376798 -1.348295\n",
      "('foo', 'one')\n",
      "     A    B         C         D\n",
      "0  foo  one -2.217326 -0.497954\n",
      "6  foo  one -2.046664  0.449330\n",
      "('foo', 'three')\n",
      "     A      B         C         D\n",
      "7  foo  three  0.783075  0.216307\n",
      "('foo', 'tow')\n",
      "     A    B         C         D\n",
      "4  foo  tow  0.024635  1.017739\n",
      "('foo', 'two')\n",
      "     A    B         C         D\n",
      "2  foo  two  1.041459  0.395484\n"
     ]
    }
   ],
   "source": [
    "grouped = df.groupby(['A','B'])\n",
    "for name, group in grouped:\n",
    "    print name\n",
    "    print group"
   ]
  },
  {
   "cell_type": "markdown",
   "metadata": {},
   "source": [
    "its's standard Python-fu but remember you can unpack the tuples in the for loop statement if yyou wish:for (k1, k2) group in"
   ]
  },
  {
   "cell_type": "markdown",
   "metadata": {
    "collapsed": true
   },
   "source": [
    "### Selecting a group\n",
    "\n",
    "A single group can be selected using GroupBy.get_group()"
   ]
  },
  {
   "cell_type": "code",
   "execution_count": 23,
   "metadata": {
    "collapsed": false
   },
   "outputs": [
    {
     "data": {
      "text/html": [
       "<div>\n",
       "<table border=\"1\" class=\"dataframe\">\n",
       "  <thead>\n",
       "    <tr style=\"text-align: right;\">\n",
       "      <th></th>\n",
       "      <th>A</th>\n",
       "      <th>B</th>\n",
       "      <th>C</th>\n",
       "      <th>D</th>\n",
       "    </tr>\n",
       "  </thead>\n",
       "  <tbody>\n",
       "    <tr>\n",
       "      <th>0</th>\n",
       "      <td>foo</td>\n",
       "      <td>one</td>\n",
       "      <td>-2.217326</td>\n",
       "      <td>-0.497954</td>\n",
       "    </tr>\n",
       "    <tr>\n",
       "      <th>6</th>\n",
       "      <td>foo</td>\n",
       "      <td>one</td>\n",
       "      <td>-2.046664</td>\n",
       "      <td>0.449330</td>\n",
       "    </tr>\n",
       "  </tbody>\n",
       "</table>\n",
       "</div>"
      ],
      "text/plain": [
       "     A    B         C         D\n",
       "0  foo  one -2.217326 -0.497954\n",
       "6  foo  one -2.046664  0.449330"
      ]
     },
     "execution_count": 23,
     "metadata": {},
     "output_type": "execute_result"
    }
   ],
   "source": [
    "grouped.get_group(('foo','one'))"
   ]
  },
  {
   "cell_type": "markdown",
   "metadata": {},
   "source": [
    "### Aggregation\n",
    "\n",
    "Once the group by object has been created, several methods are available to perform a computation on the grouped data\n",
    "\n",
    "An obvious one is aggreation via the aggreation or equivalently agg method:\n"
   ]
  },
  {
   "cell_type": "code",
   "execution_count": 28,
   "metadata": {
    "collapsed": false
   },
   "outputs": [
    {
     "name": "stdout",
     "output_type": "stream",
     "text": [
      "            C         D\n",
      "A                      \n",
      "bar -2.383146  0.379575\n",
      "foo -2.414820  1.580907\n",
      "                  C         D\n",
      "A   B                        \n",
      "bar one   -2.111401  0.092335\n",
      "    three -0.648543  1.635534\n",
      "    two    0.376798 -1.348295\n",
      "foo one   -4.263989 -0.048623\n",
      "    three  0.783075  0.216307\n",
      "    tow    0.024635  1.017739\n",
      "    two    1.041459  0.395484\n"
     ]
    }
   ],
   "source": [
    "grouped = df.groupby('A')\n",
    "print grouped.aggregate(np.sum)\n",
    "grouped = df.groupby(['A', 'B'])\n",
    "print grouped.agg(np.sum)"
   ]
  },
  {
   "cell_type": "markdown",
   "metadata": {},
   "source": [
    "As you can see, the result of the aggreation will have the group names as the new index along the grouped axis. In the case of multiple keys, the reulst is a MultiIndex by default, thought this can be changed by using the as_index option:"
   ]
  },
  {
   "cell_type": "code",
   "execution_count": null,
   "metadata": {
    "collapsed": true
   },
   "outputs": [],
   "source": []
  }
 ],
 "metadata": {
  "kernelspec": {
   "display_name": "Python 2",
   "language": "python",
   "name": "python2"
  },
  "language_info": {
   "codemirror_mode": {
    "name": "ipython",
    "version": 2
   },
   "file_extension": ".py",
   "mimetype": "text/x-python",
   "name": "python",
   "nbconvert_exporter": "python",
   "pygments_lexer": "ipython2",
   "version": "2.7.11"
  }
 },
 "nbformat": 4,
 "nbformat_minor": 0
}
