{
 "cells": [
  {
   "cell_type": "markdown",
   "metadata": {},
   "source": [
    "### Sereis is ndarry-like\n",
    "\n",
    "Series acts very similarly to a ndarry, and is a valid argument to most Numpy functions, However, things like slicing also slice the index"
   ]
  },
  {
   "cell_type": "code",
   "execution_count": 1,
   "metadata": {
    "collapsed": true
   },
   "outputs": [],
   "source": [
    "import pandas as pd\n",
    "import numpy as np"
   ]
  },
  {
   "cell_type": "code",
   "execution_count": 2,
   "metadata": {
    "collapsed": false
   },
   "outputs": [
    {
     "data": {
      "text/plain": [
       "a    1.473373\n",
       "b    0.915352\n",
       "c   -0.117936\n",
       "d    0.663925\n",
       "e    0.480793\n",
       "dtype: float64"
      ]
     },
     "execution_count": 2,
     "metadata": {},
     "output_type": "execute_result"
    }
   ],
   "source": [
    "s = pd.Series(np.random.randn(5), index=['a', 'b', 'c', 'd', 'e'])\n",
    "s"
   ]
  },
  {
   "cell_type": "code",
   "execution_count": 3,
   "metadata": {
    "collapsed": false
   },
   "outputs": [
    {
     "data": {
      "text/plain": [
       "a    4.363928\n",
       "b    2.497655\n",
       "c    0.888753\n",
       "d    1.942401\n",
       "e    1.617356\n",
       "dtype: float64"
      ]
     },
     "execution_count": 3,
     "metadata": {},
     "output_type": "execute_result"
    }
   ],
   "source": [
    "s[0]\n",
    "s[:3]\n",
    "s > s.median()\n",
    "s[s > s.median()]\n",
    "s[[4,3]]\n",
    "np.exp(s)"
   ]
  },
  {
   "cell_type": "markdown",
   "metadata": {
    "collapsed": true
   },
   "source": [
    "### Series is dict like\n",
    "\n",
    "A series is like a fixed-size dict in that you can get and set values by index labels:"
   ]
  },
  {
   "cell_type": "code",
   "execution_count": 4,
   "metadata": {
    "collapsed": false
   },
   "outputs": [
    {
     "name": "stdout",
     "output_type": "stream",
     "text": [
      "1.47337268154\n"
     ]
    },
    {
     "data": {
      "text/plain": [
       "False"
      ]
     },
     "execution_count": 4,
     "metadata": {},
     "output_type": "execute_result"
    }
   ],
   "source": [
    "print s['a']\n",
    "s['e'] = 10.\n",
    "s\n",
    "'e' in s\n",
    "10. in s"
   ]
  },
  {
   "cell_type": "markdown",
   "metadata": {},
   "source": [
    "if a lable is not contained, an exception is raised"
   ]
  },
  {
   "cell_type": "code",
   "execution_count": 5,
   "metadata": {
    "collapsed": false
   },
   "outputs": [
    {
     "ename": "KeyError",
     "evalue": "'f'",
     "output_type": "error",
     "traceback": [
      "\u001b[0;31m---------------------------------------------------------------------------\u001b[0m",
      "\u001b[0;31mKeyError\u001b[0m                                  Traceback (most recent call last)",
      "\u001b[0;32m<ipython-input-5-f7a405991146>\u001b[0m in \u001b[0;36m<module>\u001b[0;34m()\u001b[0m\n\u001b[0;32m----> 1\u001b[0;31m \u001b[0ms\u001b[0m\u001b[0;34m[\u001b[0m\u001b[0;34m'f'\u001b[0m\u001b[0;34m]\u001b[0m\u001b[0;34m\u001b[0m\u001b[0m\n\u001b[0m",
      "\u001b[0;32m/Users/younlee/anaconda/lib/python2.7/site-packages/pandas/core/series.pyc\u001b[0m in \u001b[0;36m__getitem__\u001b[0;34m(self, key)\u001b[0m\n\u001b[1;32m    581\u001b[0m         \u001b[0mkey\u001b[0m \u001b[0;34m=\u001b[0m \u001b[0mcom\u001b[0m\u001b[0;34m.\u001b[0m\u001b[0m_apply_if_callable\u001b[0m\u001b[0;34m(\u001b[0m\u001b[0mkey\u001b[0m\u001b[0;34m,\u001b[0m \u001b[0mself\u001b[0m\u001b[0;34m)\u001b[0m\u001b[0;34m\u001b[0m\u001b[0m\n\u001b[1;32m    582\u001b[0m         \u001b[0;32mtry\u001b[0m\u001b[0;34m:\u001b[0m\u001b[0;34m\u001b[0m\u001b[0m\n\u001b[0;32m--> 583\u001b[0;31m             \u001b[0mresult\u001b[0m \u001b[0;34m=\u001b[0m \u001b[0mself\u001b[0m\u001b[0;34m.\u001b[0m\u001b[0mindex\u001b[0m\u001b[0;34m.\u001b[0m\u001b[0mget_value\u001b[0m\u001b[0;34m(\u001b[0m\u001b[0mself\u001b[0m\u001b[0;34m,\u001b[0m \u001b[0mkey\u001b[0m\u001b[0;34m)\u001b[0m\u001b[0;34m\u001b[0m\u001b[0m\n\u001b[0m\u001b[1;32m    584\u001b[0m \u001b[0;34m\u001b[0m\u001b[0m\n\u001b[1;32m    585\u001b[0m             \u001b[0;32mif\u001b[0m \u001b[0;32mnot\u001b[0m \u001b[0mlib\u001b[0m\u001b[0;34m.\u001b[0m\u001b[0misscalar\u001b[0m\u001b[0;34m(\u001b[0m\u001b[0mresult\u001b[0m\u001b[0;34m)\u001b[0m\u001b[0;34m:\u001b[0m\u001b[0;34m\u001b[0m\u001b[0m\n",
      "\u001b[0;32m/Users/younlee/anaconda/lib/python2.7/site-packages/pandas/indexes/base.pyc\u001b[0m in \u001b[0;36mget_value\u001b[0;34m(self, series, key)\u001b[0m\n\u001b[1;32m   1992\u001b[0m                     \u001b[0;32mraise\u001b[0m \u001b[0mInvalidIndexError\u001b[0m\u001b[0;34m(\u001b[0m\u001b[0mkey\u001b[0m\u001b[0;34m)\u001b[0m\u001b[0;34m\u001b[0m\u001b[0m\n\u001b[1;32m   1993\u001b[0m                 \u001b[0;32melse\u001b[0m\u001b[0;34m:\u001b[0m\u001b[0;34m\u001b[0m\u001b[0m\n\u001b[0;32m-> 1994\u001b[0;31m                     \u001b[0;32mraise\u001b[0m \u001b[0me1\u001b[0m\u001b[0;34m\u001b[0m\u001b[0m\n\u001b[0m\u001b[1;32m   1995\u001b[0m             \u001b[0;32mexcept\u001b[0m \u001b[0mException\u001b[0m\u001b[0;34m:\u001b[0m  \u001b[0;31m# pragma: no cover\u001b[0m\u001b[0;34m\u001b[0m\u001b[0m\n\u001b[1;32m   1996\u001b[0m                 \u001b[0;32mraise\u001b[0m \u001b[0me1\u001b[0m\u001b[0;34m\u001b[0m\u001b[0m\n",
      "\u001b[0;31mKeyError\u001b[0m: 'f'"
     ]
    }
   ],
   "source": [
    "s['f']"
   ]
  },
  {
   "cell_type": "markdown",
   "metadata": {},
   "source": [
    "Using the get method, a missing label will return None or specified default:"
   ]
  },
  {
   "cell_type": "code",
   "execution_count": null,
   "metadata": {
    "collapsed": false
   },
   "outputs": [],
   "source": [
    "print s.get('f')\n",
    "print s.get('f', np.NAN)"
   ]
  },
  {
   "cell_type": "markdown",
   "metadata": {},
   "source": [
    "### Vectorized operations and label alignment with Series\n",
    "\n",
    "When doing data analysis, as with raw "
   ]
  },
  {
   "cell_type": "markdown",
   "metadata": {},
   "source": [
    "### Column selection, addition, deletion\n",
    "\n",
    "You can treat a DataFrame semantically like a dict of like-indexd Series objects. Getting. Setting. and Deleting columns wokr with the same syntax as the analogous dict operation"
   ]
  },
  {
   "cell_type": "code",
   "execution_count": null,
   "metadata": {
    "collapsed": false
   },
   "outputs": [],
   "source": [
    "df = pd.DataFrame({\n",
    "        'one': pd.Series([1,2,3], index=['a', 'b', 'c']),\n",
    "        'two': pd.Series([4,5,6], index=['a', 'b', 'c'])\n",
    "    })"
   ]
  },
  {
   "cell_type": "code",
   "execution_count": null,
   "metadata": {
    "collapsed": false
   },
   "outputs": [],
   "source": [
    "print df['one']\n",
    "df['three'] = df['one'] * df['two']\n",
    "df['flag'] = df['one'] > 2\n",
    "print df"
   ]
  },
  {
   "cell_type": "markdown",
   "metadata": {},
   "source": [
    "colmuns can be delete or poped like with a dict"
   ]
  },
  {
   "cell_type": "code",
   "execution_count": null,
   "metadata": {
    "collapsed": false
   },
   "outputs": [],
   "source": [
    "del df['two']\n",
    "print df\n",
    "three = df.pop('three')\n",
    "print df"
   ]
  },
  {
   "cell_type": "markdown",
   "metadata": {},
   "source": [
    "when inserting a scalar value, it will naturally be propergated to fill the column:\n"
   ]
  },
  {
   "cell_type": "code",
   "execution_count": null,
   "metadata": {
    "collapsed": false
   },
   "outputs": [],
   "source": [
    "df['foo'] = 'foo'\n",
    "df"
   ]
  },
  {
   "cell_type": "markdown",
   "metadata": {},
   "source": [
    "when inserting a Series that dose not have the same index as the dataframe, it will be conformed to the DataFrame's index"
   ]
  },
  {
   "cell_type": "code",
   "execution_count": null,
   "metadata": {
    "collapsed": false
   },
   "outputs": [],
   "source": [
    "df['one_truct'] = df['one'][:2]\n",
    "print df"
   ]
  },
  {
   "cell_type": "markdown",
   "metadata": {},
   "source": [
    "you can insert raw ndarray but there length must be match the lenght of dataFrame'index\n",
    "\n",
    "by default columns get inserted at the end. the insert function is avaialbe to insert at a particular location in the columns"
   ]
  },
  {
   "cell_type": "code",
   "execution_count": null,
   "metadata": {
    "collapsed": false
   },
   "outputs": [],
   "source": [
    "df.insert(1,'bar',df['one'])\n",
    "print df"
   ]
  },
  {
   "cell_type": "markdown",
   "metadata": {
    "collapsed": true
   },
   "source": [
    "### Data alignment and arithmetic\n",
    "\n",
    "Data alignment between dataFrame object automatically align on both the columns and index (row labels). Again, the resulting object will have the union of the columns and labels"
   ]
  },
  {
   "cell_type": "code",
   "execution_count": 12,
   "metadata": {
    "collapsed": false
   },
   "outputs": [
    {
     "data": {
      "text/html": [
       "<div>\n",
       "<table border=\"1\" class=\"dataframe\">\n",
       "  <thead>\n",
       "    <tr style=\"text-align: right;\">\n",
       "      <th></th>\n",
       "      <th>a</th>\n",
       "      <th>b</th>\n",
       "      <th>c</th>\n",
       "      <th>d</th>\n",
       "    </tr>\n",
       "  </thead>\n",
       "  <tbody>\n",
       "    <tr>\n",
       "      <th>0</th>\n",
       "      <td>-0.276075</td>\n",
       "      <td>-0.577958</td>\n",
       "      <td>0.293062</td>\n",
       "      <td>NaN</td>\n",
       "    </tr>\n",
       "    <tr>\n",
       "      <th>1</th>\n",
       "      <td>-0.392069</td>\n",
       "      <td>0.763597</td>\n",
       "      <td>0.036495</td>\n",
       "      <td>NaN</td>\n",
       "    </tr>\n",
       "    <tr>\n",
       "      <th>2</th>\n",
       "      <td>0.737574</td>\n",
       "      <td>-1.283810</td>\n",
       "      <td>0.301302</td>\n",
       "      <td>NaN</td>\n",
       "    </tr>\n",
       "    <tr>\n",
       "      <th>3</th>\n",
       "      <td>1.177891</td>\n",
       "      <td>1.262946</td>\n",
       "      <td>1.057088</td>\n",
       "      <td>NaN</td>\n",
       "    </tr>\n",
       "    <tr>\n",
       "      <th>4</th>\n",
       "      <td>0.598706</td>\n",
       "      <td>0.939900</td>\n",
       "      <td>1.020150</td>\n",
       "      <td>NaN</td>\n",
       "    </tr>\n",
       "    <tr>\n",
       "      <th>5</th>\n",
       "      <td>-1.229751</td>\n",
       "      <td>1.265387</td>\n",
       "      <td>-1.902240</td>\n",
       "      <td>NaN</td>\n",
       "    </tr>\n",
       "    <tr>\n",
       "      <th>6</th>\n",
       "      <td>0.047530</td>\n",
       "      <td>0.972545</td>\n",
       "      <td>2.649109</td>\n",
       "      <td>NaN</td>\n",
       "    </tr>\n",
       "    <tr>\n",
       "      <th>7</th>\n",
       "      <td>NaN</td>\n",
       "      <td>NaN</td>\n",
       "      <td>NaN</td>\n",
       "      <td>NaN</td>\n",
       "    </tr>\n",
       "    <tr>\n",
       "      <th>8</th>\n",
       "      <td>NaN</td>\n",
       "      <td>NaN</td>\n",
       "      <td>NaN</td>\n",
       "      <td>NaN</td>\n",
       "    </tr>\n",
       "    <tr>\n",
       "      <th>9</th>\n",
       "      <td>NaN</td>\n",
       "      <td>NaN</td>\n",
       "      <td>NaN</td>\n",
       "      <td>NaN</td>\n",
       "    </tr>\n",
       "  </tbody>\n",
       "</table>\n",
       "</div>"
      ],
      "text/plain": [
       "          a         b         c   d\n",
       "0 -0.276075 -0.577958  0.293062 NaN\n",
       "1 -0.392069  0.763597  0.036495 NaN\n",
       "2  0.737574 -1.283810  0.301302 NaN\n",
       "3  1.177891  1.262946  1.057088 NaN\n",
       "4  0.598706  0.939900  1.020150 NaN\n",
       "5 -1.229751  1.265387 -1.902240 NaN\n",
       "6  0.047530  0.972545  2.649109 NaN\n",
       "7       NaN       NaN       NaN NaN\n",
       "8       NaN       NaN       NaN NaN\n",
       "9       NaN       NaN       NaN NaN"
      ]
     },
     "execution_count": 12,
     "metadata": {},
     "output_type": "execute_result"
    }
   ],
   "source": [
    "df = pd.DataFrame(np.random.randn(10,4), columns=['a', 'b', 'c', 'd'])\n",
    "df2 = pd.DataFrame(np.random.randn(7,3), columns=['a', 'b', 'c'])\n",
    "\n",
    "df + df2"
   ]
  },
  {
   "cell_type": "code",
   "execution_count": 9,
   "metadata": {
    "collapsed": false
   },
   "outputs": [
    {
     "data": {
      "text/html": [
       "<div>\n",
       "<table border=\"1\" class=\"dataframe\">\n",
       "  <thead>\n",
       "    <tr style=\"text-align: right;\">\n",
       "      <th></th>\n",
       "      <th>0</th>\n",
       "      <th>1</th>\n",
       "      <th>2</th>\n",
       "      <th>3</th>\n",
       "    </tr>\n",
       "  </thead>\n",
       "  <tbody>\n",
       "    <tr>\n",
       "      <th>0</th>\n",
       "      <td>-1.585020</td>\n",
       "      <td>-0.244537</td>\n",
       "      <td>1.188125</td>\n",
       "      <td>0.557900</td>\n",
       "    </tr>\n",
       "    <tr>\n",
       "      <th>1</th>\n",
       "      <td>-1.140766</td>\n",
       "      <td>-2.498126</td>\n",
       "      <td>-0.857953</td>\n",
       "      <td>-0.333316</td>\n",
       "    </tr>\n",
       "    <tr>\n",
       "      <th>2</th>\n",
       "      <td>-1.650070</td>\n",
       "      <td>0.454017</td>\n",
       "      <td>0.477063</td>\n",
       "      <td>0.187709</td>\n",
       "    </tr>\n",
       "    <tr>\n",
       "      <th>3</th>\n",
       "      <td>0.445545</td>\n",
       "      <td>-0.285485</td>\n",
       "      <td>-0.917187</td>\n",
       "      <td>0.789245</td>\n",
       "    </tr>\n",
       "    <tr>\n",
       "      <th>4</th>\n",
       "      <td>0.407409</td>\n",
       "      <td>1.157985</td>\n",
       "      <td>-1.233598</td>\n",
       "      <td>0.470484</td>\n",
       "    </tr>\n",
       "    <tr>\n",
       "      <th>5</th>\n",
       "      <td>1.722725</td>\n",
       "      <td>0.741234</td>\n",
       "      <td>0.136391</td>\n",
       "      <td>1.053451</td>\n",
       "    </tr>\n",
       "    <tr>\n",
       "      <th>6</th>\n",
       "      <td>0.881231</td>\n",
       "      <td>1.496925</td>\n",
       "      <td>1.410209</td>\n",
       "      <td>-0.758677</td>\n",
       "    </tr>\n",
       "    <tr>\n",
       "      <th>7</th>\n",
       "      <td>0.223064</td>\n",
       "      <td>-0.605537</td>\n",
       "      <td>-0.826261</td>\n",
       "      <td>0.588330</td>\n",
       "    </tr>\n",
       "    <tr>\n",
       "      <th>8</th>\n",
       "      <td>1.310569</td>\n",
       "      <td>-0.560107</td>\n",
       "      <td>0.881644</td>\n",
       "      <td>-0.860644</td>\n",
       "    </tr>\n",
       "    <tr>\n",
       "      <th>9</th>\n",
       "      <td>0.889259</td>\n",
       "      <td>-1.613744</td>\n",
       "      <td>-0.757390</td>\n",
       "      <td>1.797102</td>\n",
       "    </tr>\n",
       "  </tbody>\n",
       "</table>\n",
       "</div>"
      ],
      "text/plain": [
       "          0         1         2         3\n",
       "0 -1.585020 -0.244537  1.188125  0.557900\n",
       "1 -1.140766 -2.498126 -0.857953 -0.333316\n",
       "2 -1.650070  0.454017  0.477063  0.187709\n",
       "3  0.445545 -0.285485 -0.917187  0.789245\n",
       "4  0.407409  1.157985 -1.233598  0.470484\n",
       "5  1.722725  0.741234  0.136391  1.053451\n",
       "6  0.881231  1.496925  1.410209 -0.758677\n",
       "7  0.223064 -0.605537 -0.826261  0.588330\n",
       "8  1.310569 -0.560107  0.881644 -0.860644\n",
       "9  0.889259 -1.613744 -0.757390  1.797102"
      ]
     },
     "execution_count": 9,
     "metadata": {},
     "output_type": "execute_result"
    }
   ],
   "source": [
    "# pd.DataFrame(np.random.randn(10,4))"
   ]
  },
  {
   "cell_type": "markdown",
   "metadata": {},
   "source": [
    "when doing an operation between dataFrame and Series, the default behavior is to align the Series index on DataFrame columns, thus broadcasting row-wise For example\n"
   ]
  },
  {
   "cell_type": "code",
   "execution_count": 13,
   "metadata": {
    "collapsed": false
   },
   "outputs": [
    {
     "name": "stdout",
     "output_type": "stream",
     "text": [
      "a    0.535433\n",
      "b    0.181077\n",
      "c    0.549680\n",
      "d   -0.532788\n",
      "Name: 0, dtype: float64\n",
      "          a         b         c         d\n",
      "0  0.000000  0.000000  0.000000  0.000000\n",
      "1 -0.939923  0.453630 -0.178037  0.967789\n",
      "2 -0.342772 -0.823507 -1.180446  1.314895\n",
      "3  0.547715  0.265239  0.674822  1.122532\n",
      "4 -0.454948  0.444827 -0.415012 -0.387608\n",
      "5 -1.704635  0.246127 -1.269014  0.632474\n",
      "6 -0.563704  0.747286  0.100756 -1.044201\n",
      "7 -0.989781 -0.191822 -1.572832  0.533794\n",
      "8 -1.668769  0.366749 -0.537420  1.246275\n",
      "9 -0.852811 -0.062594 -1.364167  1.316738\n"
     ]
    }
   ],
   "source": [
    "print df.iloc[0]\n",
    "print df - df.iloc[0]"
   ]
  },
  {
   "cell_type": "markdown",
   "metadata": {},
   "source": [
    "in the special case of working with time Sereis data and the DataFrame index also contain dates, the broadcasting will be column-wise"
   ]
  },
  {
   "cell_type": "code",
   "execution_count": 19,
   "metadata": {
    "collapsed": false
   },
   "outputs": [
    {
     "name": "stdout",
     "output_type": "stream",
     "text": [
      "                   A         B         C\n",
      "2000-01-01  1.809088 -0.203813 -1.358573\n",
      "2000-01-02 -0.443242 -0.063783  0.368698\n",
      "2000-01-03  0.104070  0.034189  0.284820\n",
      "2000-01-04 -1.263363 -0.857205  0.322091\n",
      "2000-01-05  0.170954 -2.082323  0.659992\n",
      "2000-01-06  1.038349  0.529208  0.317085\n",
      "2000-01-07  0.439479 -1.336760 -0.629958\n",
      "2000-01-08 -0.700348  0.718012  0.696689\n",
      "<class 'pandas.core.series.Series'>\n",
      "            2000-01-01 00:00:00  2000-01-02 00:00:00  2000-01-03 00:00:00  \\\n",
      "2000-01-01                  NaN                  NaN                  NaN   \n",
      "2000-01-02                  NaN                  NaN                  NaN   \n",
      "2000-01-03                  NaN                  NaN                  NaN   \n",
      "2000-01-04                  NaN                  NaN                  NaN   \n",
      "2000-01-05                  NaN                  NaN                  NaN   \n",
      "2000-01-06                  NaN                  NaN                  NaN   \n",
      "2000-01-07                  NaN                  NaN                  NaN   \n",
      "2000-01-08                  NaN                  NaN                  NaN   \n",
      "\n",
      "            2000-01-04 00:00:00  2000-01-05 00:00:00  2000-01-06 00:00:00  \\\n",
      "2000-01-01                  NaN                  NaN                  NaN   \n",
      "2000-01-02                  NaN                  NaN                  NaN   \n",
      "2000-01-03                  NaN                  NaN                  NaN   \n",
      "2000-01-04                  NaN                  NaN                  NaN   \n",
      "2000-01-05                  NaN                  NaN                  NaN   \n",
      "2000-01-06                  NaN                  NaN                  NaN   \n",
      "2000-01-07                  NaN                  NaN                  NaN   \n",
      "2000-01-08                  NaN                  NaN                  NaN   \n",
      "\n",
      "            2000-01-07 00:00:00  2000-01-08 00:00:00   A   B   C  \n",
      "2000-01-01                  NaN                  NaN NaN NaN NaN  \n",
      "2000-01-02                  NaN                  NaN NaN NaN NaN  \n",
      "2000-01-03                  NaN                  NaN NaN NaN NaN  \n",
      "2000-01-04                  NaN                  NaN NaN NaN NaN  \n",
      "2000-01-05                  NaN                  NaN NaN NaN NaN  \n",
      "2000-01-06                  NaN                  NaN NaN NaN NaN  \n",
      "2000-01-07                  NaN                  NaN NaN NaN NaN  \n",
      "2000-01-08                  NaN                  NaN NaN NaN NaN  \n"
     ]
    }
   ],
   "source": [
    "index = pd.date_range('1/1/2000', periods=8)\n",
    "df = pd.DataFrame(np.random.randn(8,3), index=index, columns=list('ABC'))\n",
    "print df\n",
    "print type(df['A'])\n",
    "print df - df['A']"
   ]
  },
  {
   "cell_type": "markdown",
   "metadata": {},
   "source": [
    "Operation with the scalars are just as you would expected: "
   ]
  },
  {
   "cell_type": "code",
   "execution_count": 20,
   "metadata": {
    "collapsed": false
   },
   "outputs": [
    {
     "data": {
      "text/html": [
       "<div>\n",
       "<table border=\"1\" class=\"dataframe\">\n",
       "  <thead>\n",
       "    <tr style=\"text-align: right;\">\n",
       "      <th></th>\n",
       "      <th>A</th>\n",
       "      <th>B</th>\n",
       "      <th>C</th>\n",
       "    </tr>\n",
       "  </thead>\n",
       "  <tbody>\n",
       "    <tr>\n",
       "      <th>2000-01-01</th>\n",
       "      <td>11.809088</td>\n",
       "      <td>9.796187</td>\n",
       "      <td>8.641427</td>\n",
       "    </tr>\n",
       "    <tr>\n",
       "      <th>2000-01-02</th>\n",
       "      <td>9.556758</td>\n",
       "      <td>9.936217</td>\n",
       "      <td>10.368698</td>\n",
       "    </tr>\n",
       "    <tr>\n",
       "      <th>2000-01-03</th>\n",
       "      <td>10.104070</td>\n",
       "      <td>10.034189</td>\n",
       "      <td>10.284820</td>\n",
       "    </tr>\n",
       "    <tr>\n",
       "      <th>2000-01-04</th>\n",
       "      <td>8.736637</td>\n",
       "      <td>9.142795</td>\n",
       "      <td>10.322091</td>\n",
       "    </tr>\n",
       "    <tr>\n",
       "      <th>2000-01-05</th>\n",
       "      <td>10.170954</td>\n",
       "      <td>7.917677</td>\n",
       "      <td>10.659992</td>\n",
       "    </tr>\n",
       "    <tr>\n",
       "      <th>2000-01-06</th>\n",
       "      <td>11.038349</td>\n",
       "      <td>10.529208</td>\n",
       "      <td>10.317085</td>\n",
       "    </tr>\n",
       "    <tr>\n",
       "      <th>2000-01-07</th>\n",
       "      <td>10.439479</td>\n",
       "      <td>8.663240</td>\n",
       "      <td>9.370042</td>\n",
       "    </tr>\n",
       "    <tr>\n",
       "      <th>2000-01-08</th>\n",
       "      <td>9.299652</td>\n",
       "      <td>10.718012</td>\n",
       "      <td>10.696689</td>\n",
       "    </tr>\n",
       "  </tbody>\n",
       "</table>\n",
       "</div>"
      ],
      "text/plain": [
       "                    A          B          C\n",
       "2000-01-01  11.809088   9.796187   8.641427\n",
       "2000-01-02   9.556758   9.936217  10.368698\n",
       "2000-01-03  10.104070  10.034189  10.284820\n",
       "2000-01-04   8.736637   9.142795  10.322091\n",
       "2000-01-05  10.170954   7.917677  10.659992\n",
       "2000-01-06  11.038349  10.529208  10.317085\n",
       "2000-01-07  10.439479   8.663240   9.370042\n",
       "2000-01-08   9.299652  10.718012  10.696689"
      ]
     },
     "execution_count": 20,
     "metadata": {},
     "output_type": "execute_result"
    }
   ],
   "source": [
    "df + 10"
   ]
  },
  {
   "cell_type": "markdown",
   "metadata": {},
   "source": [
    "boolean operation work as well"
   ]
  },
  {
   "cell_type": "code",
   "execution_count": 23,
   "metadata": {
    "collapsed": false
   },
   "outputs": [
    {
     "name": "stdout",
     "output_type": "stream",
     "text": [
      "   a  b\n",
      "0  1  0\n",
      "1  0  1\n",
      "2  1  1\n",
      "   a  b\n",
      "0  1  0\n",
      "1  0  1\n",
      "2  1  1\n",
      "   a  b\n",
      "0  0  0\n",
      "1  0  0\n",
      "2  0  0\n",
      "   a  b\n",
      "0 -1  0\n",
      "1  0 -1\n",
      "2 -1 -1\n"
     ]
    }
   ],
   "source": [
    "df1 = pd.DataFrame({'a': [1,0,1], 'b':[0,1,1]})\n",
    "df2 = pd.DataFrame({'a': [1,0,1], 'b':[0,1,1]})\n",
    "\n",
    "print df1 & df2\n",
    "print df1 | df2\n",
    "print df1 ^ df2 #xor if diff then 1 if same 0 \n",
    "print -df1"
   ]
  },
  {
   "cell_type": "markdown",
   "metadata": {},
   "source": [
    "### Transposing\n",
    "\n",
    "To transpose, access the T attribute (also the transpose function), similar to an ndarry:"
   ]
  },
  {
   "cell_type": "code",
   "execution_count": 26,
   "metadata": {
    "collapsed": false
   },
   "outputs": [
    {
     "name": "stdout",
     "output_type": "stream",
     "text": [
      "                   A         B         C\n",
      "2000-01-01  1.809088 -0.203813 -1.358573\n",
      "2000-01-02 -0.443242 -0.063783  0.368698\n",
      "2000-01-03  0.104070  0.034189  0.284820\n",
      "2000-01-04 -1.263363 -0.857205  0.322091\n",
      "2000-01-05  0.170954 -2.082323  0.659992\n",
      "   2000-01-01  2000-01-02  2000-01-03  2000-01-04  2000-01-05\n",
      "A    1.809088   -0.443242    0.104070   -1.263363    0.170954\n",
      "B   -0.203813   -0.063783    0.034189   -0.857205   -2.082323\n",
      "C   -1.358573    0.368698    0.284820    0.322091    0.659992\n"
     ]
    }
   ],
   "source": [
    "print df[:5]\n",
    "print df[:5].T"
   ]
  },
  {
   "cell_type": "code",
   "execution_count": null,
   "metadata": {
    "collapsed": true
   },
   "outputs": [],
   "source": []
  }
 ],
 "metadata": {
  "kernelspec": {
   "display_name": "Python 2",
   "language": "python",
   "name": "python2"
  },
  "language_info": {
   "codemirror_mode": {
    "name": "ipython",
    "version": 2
   },
   "file_extension": ".py",
   "mimetype": "text/x-python",
   "name": "python",
   "nbconvert_exporter": "python",
   "pygments_lexer": "ipython2",
   "version": "2.7.11"
  }
 },
 "nbformat": 4,
 "nbformat_minor": 0
}
