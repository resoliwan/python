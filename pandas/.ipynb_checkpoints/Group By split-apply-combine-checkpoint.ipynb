{
 "cells": [
  {
   "cell_type": "markdown",
   "metadata": {},
   "source": [
    "By \"group by\" we are referring to a process involving one or more  of the following step\n",
    "- Splitting the data into groups based on some criteria\n",
    "- Applying a function to each group independently\n",
    "- Combining the results into a data structure"
   ]
  },
  {
   "cell_type": "markdown",
   "metadata": {},
   "source": [
    "of these, the split step is the most straightforward. in fact, in many situations you may wish to split the data set into groups and do someting with those groups yourself. in the apply step, we might wish to following:"
   ]
  },
  {
   "cell_type": "markdown",
   "metadata": {},
   "source": [
    "- Aggregation: computing a summary statistic (or statistic) about each group. Some examples:\n",
    "     - Compute group sums or means\n",
    "     - Compute group sizes / counts"
   ]
  },
  {
   "cell_type": "markdown",
   "metadata": {},
   "source": [
    "- Transfromation: perform some group-specific computations and return a like-indexed. Some example\n",
    "    - Standardizing data ( zscore) within group\n",
    "    - Filling NAs within groups with a value derived from each group"
   ]
  },
  {
   "cell_type": "markdown",
   "metadata": {
    "collapsed": true
   },
   "source": [
    "- Filtation: discard sum groups, according to group-wise computation that evaluate True or Fasle. Some example\n",
    "    - Discarding data that belongs to groups with only a few members\n",
    "    - Filtering out data based on the group sum or mean\n",
    "    "
   ]
  },
  {
   "cell_type": "markdown",
   "metadata": {},
   "source": [
    "- Some combination of the above: GroupBy will examine the results of the apply step and try to return a sensibly combined result if it dosen't fit into either of the above two categories "
   ]
  },
  {
   "cell_type": "markdown",
   "metadata": {},
   "source": [
    "Since the set of object instance method on pandas data sturcture are generally rice and expressvie, we often simple want to invoke, say , a DataFrame function on each group. The name GroupBu should be quite familiar to those whe have used a SQL-based tool (or itertools), in which you can write code like:\n"
   ]
  },
  {
   "cell_type": "markdown",
   "metadata": {},
   "source": [
    "'''\n",
    "SELECT column1, column2\n",
    "FROM someTable\n",
    "GROUP BY column1\n",
    "'''"
   ]
  },
  {
   "cell_type": "markdown",
   "metadata": {},
   "source": [
    "we aim to make operation like the natural and easy to express using pandas. We'll address each area of GroupBy functionality then provied some none-trivial examples/ use cases"
   ]
  },
  {
   "cell_type": "markdown",
   "metadata": {},
   "source": [
    "### Spltting an object into groups\n",
    "\n",
    "pandas object can be split on any their axes. The abstract definition of grouping is to provide a mapping of lables to group names. To create a GroupBy object(more on what the GroupBy object is later), you do folling\n",
    "\n",
    "> grouped = obj.groupby(key)\n",
    "\n",
    "> grouped = obj.groupby(key, axis=1)\n",
    "\n",
    "> goruped = obj.groupby([key1, key2])"
   ]
  },
  {
   "cell_type": "markdown",
   "metadata": {},
   "source": [
    "The mapping can be specified many different ways:\n",
    "    - A Python function, to be called on each of the axis labels\n",
    "    - A list or NumPy arrays of the same length as the seleced axis\n",
    "    - a dict or Sereis, providing a \"label\" -> \"group name\" mapping\n",
    "    - For DataFrame object, a string indicating a columns to be used to group. of coure df.groupby('A') is just syntatic sugar for df.groupby(df['A']), but it makes life simpler\n",
    "    - A list of any of the above things\n",
    "   \n",
    "Collectively, we refre to grouping objects as the keys. For example. consider following DataFrame:"
   ]
  },
  {
   "cell_type": "code",
   "execution_count": 1,
   "metadata": {
    "collapsed": true
   },
   "outputs": [],
   "source": [
    "import pandas as pd\n",
    "import numpy as np"
   ]
  },
  {
   "cell_type": "code",
   "execution_count": 2,
   "metadata": {
    "collapsed": false
   },
   "outputs": [
    {
     "data": {
      "text/html": [
       "<div>\n",
       "<table border=\"1\" class=\"dataframe\">\n",
       "  <thead>\n",
       "    <tr style=\"text-align: right;\">\n",
       "      <th></th>\n",
       "      <th>A</th>\n",
       "      <th>B</th>\n",
       "      <th>C</th>\n",
       "      <th>D</th>\n",
       "    </tr>\n",
       "  </thead>\n",
       "  <tbody>\n",
       "    <tr>\n",
       "      <th>0</th>\n",
       "      <td>foo</td>\n",
       "      <td>one</td>\n",
       "      <td>-1.124636</td>\n",
       "      <td>0.162121</td>\n",
       "    </tr>\n",
       "    <tr>\n",
       "      <th>1</th>\n",
       "      <td>bar</td>\n",
       "      <td>one</td>\n",
       "      <td>1.302839</td>\n",
       "      <td>0.989354</td>\n",
       "    </tr>\n",
       "    <tr>\n",
       "      <th>2</th>\n",
       "      <td>foo</td>\n",
       "      <td>two</td>\n",
       "      <td>0.173484</td>\n",
       "      <td>-0.652413</td>\n",
       "    </tr>\n",
       "    <tr>\n",
       "      <th>3</th>\n",
       "      <td>bar</td>\n",
       "      <td>three</td>\n",
       "      <td>-0.092287</td>\n",
       "      <td>-2.535168</td>\n",
       "    </tr>\n",
       "    <tr>\n",
       "      <th>4</th>\n",
       "      <td>foo</td>\n",
       "      <td>tow</td>\n",
       "      <td>1.695130</td>\n",
       "      <td>-0.070428</td>\n",
       "    </tr>\n",
       "    <tr>\n",
       "      <th>5</th>\n",
       "      <td>bar</td>\n",
       "      <td>two</td>\n",
       "      <td>-0.728722</td>\n",
       "      <td>1.378912</td>\n",
       "    </tr>\n",
       "    <tr>\n",
       "      <th>6</th>\n",
       "      <td>foo</td>\n",
       "      <td>one</td>\n",
       "      <td>1.475332</td>\n",
       "      <td>0.770038</td>\n",
       "    </tr>\n",
       "    <tr>\n",
       "      <th>7</th>\n",
       "      <td>foo</td>\n",
       "      <td>three</td>\n",
       "      <td>0.474175</td>\n",
       "      <td>-0.751786</td>\n",
       "    </tr>\n",
       "  </tbody>\n",
       "</table>\n",
       "</div>"
      ],
      "text/plain": [
       "     A      B         C         D\n",
       "0  foo    one -1.124636  0.162121\n",
       "1  bar    one  1.302839  0.989354\n",
       "2  foo    two  0.173484 -0.652413\n",
       "3  bar  three -0.092287 -2.535168\n",
       "4  foo    tow  1.695130 -0.070428\n",
       "5  bar    two -0.728722  1.378912\n",
       "6  foo    one  1.475332  0.770038\n",
       "7  foo  three  0.474175 -0.751786"
      ]
     },
     "execution_count": 2,
     "metadata": {},
     "output_type": "execute_result"
    }
   ],
   "source": [
    "df = pd.DataFrame({'A': ['foo', 'bar', 'foo', 'bar',\n",
    "                         'foo', 'bar', 'foo', 'foo'],\n",
    "                   'B': ['one', 'one', 'two', 'three',\n",
    "                         'tow', 'two', 'one', 'three'],\n",
    "                    'C': np.random.randn(8),\n",
    "                    'D': np.random.randn(8),\n",
    "                  })\n",
    "df"
   ]
  },
  {
   "cell_type": "markdown",
   "metadata": {},
   "source": [
    "We could naturally group by either A or B columns or both:"
   ]
  },
  {
   "cell_type": "code",
   "execution_count": 3,
   "metadata": {
    "collapsed": true
   },
   "outputs": [],
   "source": [
    "grouped = df.groupby('A')\n",
    "grouped = df.groupby(['A', 'B'])"
   ]
  },
  {
   "cell_type": "markdown",
   "metadata": {},
   "source": [
    "these will split the DataFrame on its index(rows). we could split by the columns"
   ]
  },
  {
   "cell_type": "code",
   "execution_count": 10,
   "metadata": {
    "collapsed": false
   },
   "outputs": [
    {
     "name": "stdout",
     "output_type": "stream",
     "text": [
      "a\n",
      "vowel\n",
      "b\n",
      "consonant\n"
     ]
    }
   ],
   "source": [
    "def get_letter_type(letter):\n",
    "    print letter\n",
    "    if letter.lower() in 'aeiou':\n",
    "        return 'vowel'\n",
    "    else:\n",
    "        return 'consonant'\n",
    "\n",
    "print get_letter_type('a')\n",
    "print get_letter_type('b')\n",
    "# print get_letter_type(1)"
   ]
  },
  {
   "cell_type": "code",
   "execution_count": 13,
   "metadata": {
    "collapsed": false
   },
   "outputs": [
    {
     "name": "stdout",
     "output_type": "stream",
     "text": [
      "A\n",
      "B\n",
      "C\n",
      "D\n"
     ]
    }
   ],
   "source": [
    "grouped = df.groupby(get_letter_type, axis=1)\n",
    "#grouped = df.groupby(get_letter_type, axis=0) index 가 들어간다 칼럼이 아니라"
   ]
  },
  {
   "cell_type": "markdown",
   "metadata": {},
   "source": [
    "Starting with 0.8 pandas index object now supports duplicate values. if a non-unique index used as the group key in a groupby operation. all values for the same index value  will be considered to be in one group and the the output of aggregation functions will be only contain unique index values:"
   ]
  },
  {
   "cell_type": "code",
   "execution_count": 32,
   "metadata": {
    "collapsed": false
   },
   "outputs": [
    {
     "name": "stdout",
     "output_type": "stream",
     "text": [
      "1     4\n",
      "2    20\n",
      "3     6\n",
      "dtype: int64\n",
      "1    10\n",
      "2     5\n",
      "3    30\n",
      "dtype: int64\n",
      "1    14\n",
      "2    25\n",
      "3    36\n",
      "dtype: int64\n"
     ]
    }
   ],
   "source": [
    "lst = [1, 2, 3, 1, 2, 3]\n",
    "s = pd.Series([4,20,6,10,5,30], lst)\n",
    "grouped = s.groupby(level=0)# if mulit index level 0 is the first colum\n",
    "print grouped.first()# 각 그룹의 첫번째 로우를 리턴 return first row at each group\n",
    "print grouped.last()# 각 그룹의 마지막 로우를 리턴 return last row at each group\n",
    "print grouped.sum()"
   ]
  },
  {
   "cell_type": "markdown",
   "metadata": {},
   "source": [
    "Note that no splitting occurs until it's need. Creating the GroupBy object only verify that you've passed a valid mapping"
   ]
  },
  {
   "cell_type": "markdown",
   "metadata": {},
   "source": [
    "### Group By sorting\n",
    "\n",
    "By default the group keys are sorting during group by operation. You may however pass sort=False for potentail speedups:"
   ]
  },
  {
   "cell_type": "code",
   "execution_count": 37,
   "metadata": {
    "collapsed": false
   },
   "outputs": [
    {
     "name": "stdout",
     "output_type": "stream",
     "text": [
      "   X   Y\n",
      "0  B   1\n",
      "1  A  10\n",
      "2  B   2\n",
      "3  A   3\n",
      "4  A   4\n",
      "    Y\n",
      "X    \n",
      "A  17\n",
      "B   3\n",
      "    Y\n",
      "X    \n",
      "B   3\n",
      "A  17\n"
     ]
    }
   ],
   "source": [
    "df2 = pd.DataFrame({'X' : ['B','A', 'B', 'A', 'A'], 'Y' : [1, 10, 2, 3, 4]})\n",
    "print df2\n",
    "\n",
    "print df2.groupby('X').sum()\n",
    "print df2.groupby('X', sort=False).sum()"
   ]
  },
  {
   "cell_type": "markdown",
   "metadata": {},
   "source": [
    "Note that groupby will be preserve the order in which observations are sorted within each group. For eaxmple, the groups created by groupby() below are in the order the appeared in the original DataFrame"
   ]
  },
  {
   "cell_type": "code",
   "execution_count": 42,
   "metadata": {
    "collapsed": false
   },
   "outputs": [
    {
     "name": "stdout",
     "output_type": "stream",
     "text": [
      "   X  Y\n",
      "0  A  1\n",
      "2  A  3\n",
      "   X  Y\n",
      "1  B  4\n",
      "3  B  2\n"
     ]
    }
   ],
   "source": [
    "df3 = pd.DataFrame({'X' : ['A', 'B', 'A', 'B'], 'Y' : [1, 4, 3, 2]})\n",
    "print df3.groupby('X').get_group('A')\n",
    "print df3.groupby('X').get_group('B')\n"
   ]
  },
  {
   "cell_type": "markdown",
   "metadata": {},
   "source": [
    "### GroupBy objects Attributes\n",
    "\n",
    "the groups attribute is a dict whose keys are the computed unique groups and corresponging values being the axis labels beloinging to each group. in the above example we have:"
   ]
  },
  {
   "cell_type": "code",
   "execution_count": 48,
   "metadata": {
    "collapsed": false
   },
   "outputs": [
    {
     "name": "stdout",
     "output_type": "stream",
     "text": [
      "     A      B         C         D\n",
      "0  foo    one  0.681416 -0.503083\n",
      "1  bar    one  0.939797  0.530915\n",
      "2  foo    two  0.134388 -1.002735\n",
      "3  bar  three -1.987432 -0.006334\n",
      "4  foo    tow  1.516278 -0.526926\n",
      "5  bar    two -0.973147 -0.081288\n",
      "6  foo    one -0.462026 -0.167095\n",
      "7  foo  three -1.694132  0.255509\n",
      "{'foo': [0, 2, 4, 6, 7], 'bar': [1, 3, 5]}\n",
      "A\n",
      "B\n",
      "C\n",
      "D\n",
      "{'consonant': ['B', 'C', 'D'], 'vowel': ['A']}\n"
     ]
    }
   ],
   "source": [
    "df = pd.DataFrame({'A': ['foo', 'bar', 'foo', 'bar',\n",
    "                         'foo', 'bar', 'foo', 'foo'],\n",
    "                   'B': ['one', 'one', 'two', 'three',\n",
    "                         'tow', 'two', 'one', 'three'],\n",
    "                    'C': np.random.randn(8),\n",
    "                    'D': np.random.randn(8)\n",
    "                   })\n",
    "print df\n",
    "print df.groupby('A').groups\n",
    "print df.groupby(get_letter_type, axis=1).groups"
   ]
  },
  {
   "cell_type": "markdown",
   "metadata": {},
   "source": [
    "calling the standard Python len function on the groupby object just return the length of the groups dict. so it is largely just a convenience"
   ]
  },
  {
   "cell_type": "code",
   "execution_count": 52,
   "metadata": {
    "collapsed": false
   },
   "outputs": [
    {
     "name": "stdout",
     "output_type": "stream",
     "text": [
      "{('foo', 'three'): [7], ('bar', 'two'): [5], ('foo', 'one'): [0, 6], ('bar', 'one'): [1], ('foo', 'tow'): [4], ('bar', 'three'): [3], ('foo', 'two'): [2]}\n",
      "7\n"
     ]
    }
   ],
   "source": [
    "grouped = df.groupby(['A', 'B'])\n",
    "print grouped.groups\n",
    "print len(grouped)"
   ]
  },
  {
   "cell_type": "markdown",
   "metadata": {},
   "source": [
    "GroupBy will tab complete colum names (and other attributes)"
   ]
  }
 ],
 "metadata": {
  "kernelspec": {
   "display_name": "Python 2",
   "language": "python",
   "name": "python2"
  },
  "language_info": {
   "codemirror_mode": {
    "name": "ipython",
    "version": 2
   },
   "file_extension": ".py",
   "mimetype": "text/x-python",
   "name": "python",
   "nbconvert_exporter": "python",
   "pygments_lexer": "ipython2",
   "version": "2.7.11"
  }
 },
 "nbformat": 4,
 "nbformat_minor": 0
}
